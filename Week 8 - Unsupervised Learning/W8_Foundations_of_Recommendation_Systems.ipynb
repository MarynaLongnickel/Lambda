{
  "nbformat": 4,
  "nbformat_minor": 0,
  "metadata": {
    "colab": {
      "name": "Marina - Foundations of Recommendation Systems.ipynb",
      "version": "0.3.2",
      "provenance": []
    },
    "kernelspec": {
      "name": "python3",
      "display_name": "Python 3"
    }
  },
  "cells": [
    {
      "metadata": {
        "id": "-wFtf2ME1PD6",
        "colab_type": "text"
      },
      "cell_type": "markdown",
      "source": [
        "**Ojectives:**\n",
        "\n",
        "1) Acquire an understanding of the different flavors/techniques for making recommendations \n",
        "\n",
        "2) Utilize Matrix Factorization to estimate/predict missing user ratings\n",
        " \n",
        "3) Measure Recommendation Accuracy"
      ]
    },
    {
      "metadata": {
        "id": "c3Ch-foO-7QN",
        "colab_type": "text"
      },
      "cell_type": "markdown",
      "source": [
        "### Objective 1: Acquire an understanding of the different flavors/techniques for making recommendations"
      ]
    },
    {
      "metadata": {
        "id": "F4mKuNRHBCJz",
        "colab_type": "text"
      },
      "cell_type": "markdown",
      "source": [
        "**1)** **Content-based Recommendations** i.e. recommend products/items based on the attibutes of the product/item\n",
        "\n",
        "Content-based recommendation engines utilize their knowledge of the attibutes of each product/item to recommend new products/items. \n",
        "\n",
        "Let's say that you inform your colleague at work that you just watched the movie **Rock** starring *Nicholas Cage* and that you really liked the movie. Based on this information, your colleague might recommend that you watch the movie **Con Air** next. Both movies are Action-packed Thrillers and both movies feature the same movie star. It could be a good recommendation because the movies have a few attributes in common. This is the fundamental idea behind content-based recommendation engines. Content-based recommendation engines recommend products that have similar attributes to a product that the user already liked.\n",
        "\n",
        "**Point to Note**: Content-based recommendations can be effective only if you have *descriptive data* available for each product/item that you want to recommend. However, creating detailed information for each product/item in your inventory is not only a time-consuming process but it also introduces a fair degree of subjectivity that can throw off your recommendation results.\n",
        "\n",
        "**2)** **Collaborative Filtering** i.e. recommend products solely based on user ratings\n",
        "\n",
        "Collaborative filtering recommendation engines generate recommendations solely based on how users rated products in the past; it only possesses knowledge on how other users rated the product and it uses those past ratings to make new recommendations.\n",
        "\n",
        "Let's say that **Thomson** has rated the following movies:\n",
        "\n",
        "Rock: 5-Star\n",
        "\n",
        "Con Air: 5-Star\n",
        "\n",
        "Finding Nemo: 2-Star\n",
        "\n",
        "Kubo and the 2 Strings: 1-Star\n",
        "\n",
        "\n",
        "**Caleb** has given the following ratings to the movies:\n",
        "\n",
        "Rock: 5 Star\n",
        "\n",
        "Con Air: (No Rating)\n",
        "\n",
        "Finding Nemo: 2-Star\n",
        "\n",
        "Kubo and the 2 Strings: (No Rating)\n",
        "\n",
        "\n",
        "**Aaron** has given the following ratings to the movies:\n",
        "\n",
        "Rock: 2 Star\n",
        "\n",
        "Con Air: 1 Star\n",
        "\n",
        "Finding Nemo: 5-Star\n",
        "\n",
        "Kubo and the 2 Strings: 4-Star\n",
        "\n",
        "**Susanna** has given the following ratings to the movies:\n",
        "\n",
        "Rock: 2 Star\n",
        "\n",
        "Con Air: 1 Star\n",
        "\n",
        "Finding Nemo: 5-Star\n",
        "\n",
        "Kubo and the 2 Strings: 4-Star\n",
        "\n",
        "\n",
        "Based on the user rating, a Collaborative filtering recommendation engine would recomend the movie \"Con Air\" to Caleb since Thomson and Caleb seem to have similar tastes.\n",
        "\n",
        "**Collaborative filtering **has an advantage over content-based recommendations. Once you have user review data, you can build a collaborative filtering recommendation system. No knowledge about the attributes of the products/items being recommended is required. However if there is no information on user reviews/ratings, recommendations cannot be made.\n",
        "\n",
        "**Some limitations of Collaborative Filtering:**\n",
        "\n",
        "Collaborative Filtering only works when you already have user reviews to work from. If you do not have any reviews, you cannot make recommendations. Also, collaborative filtering tends to favor items with lots of reviews over items with few reviews. This can make it difficult for users to uncover new releases since they are not likely to get recommended as often.\n",
        "\n",
        "\n"
      ]
    },
    {
      "metadata": {
        "id": "_JxZrUR5VzUh",
        "colab_type": "text"
      },
      "cell_type": "markdown",
      "source": [
        "### Objective 2: Utilize Matrix Factorization to estimate/predict missing user ratings"
      ]
    },
    {
      "metadata": {
        "id": "SYk5LojEamca",
        "colab_type": "text"
      },
      "cell_type": "markdown",
      "source": [
        "To develop a framework for making recommendations, we will walk-through an example:\n",
        "\n",
        "**Goal**: Predict missing user ratings so that recommendations about similar products/items (i.e. movies for the purposes of this example) can be made\n",
        "\n",
        "**Available Data**: **a)** User ratings for movies, **b)** List of movie titles and the respective genres\n",
        "\n",
        "**Process**: In order to compute missing user ratings, we need 2 key pieces of information:\n",
        "\n",
        "1) the user preferences across a range of attributes (the attributes could encompass Action, Comedy, Romance, Horror, etc.) \n",
        "\n",
        "2) the ratings for *each* movie across the same set of attributes\n",
        "\n",
        "We will utilize the \"User ratings for movies\" data set to factor out a \"User Ratings\" matrix as well as a \"Movie Rating\" matrix. Once we have the 2 pieces of information highlighted above, we will leverage the concepts of Linear Algebra (i.e. **Matrix Multiplication**) to arrive at a value for \"User Movie Rating\" for each movie across every user which will provide an estimate/prediction for the missing user ratings so that the appropriate recommendations can be surfaced to each user\n",
        "\n",
        "**User Movie Ratings** = User Ratings (across attributes) **X** Movie Ratings (across the same set of attributes) \n",
        "\n",
        "*Point to note*: When computing the following matrices: User Ratings (across attributes) and the Movie Ratings (across attributes), we have no idea what each attribute/feature is. All we know is that each attribute/feature represents some characteristic that has attracted users to certain products/items (in this case movies). Since we are unsure of how to describe those characteristics in words, they are deemed as **latent** features. The word latent just means hidden. \n",
        "\n"
      ]
    },
    {
      "metadata": {
        "id": "fSfcLChFuBNm",
        "colab_type": "code",
        "outputId": "8f032dae-7a7b-45d3-88c9-8c6a2c8f437e",
        "colab": {
          "base_uri": "https://localhost:8080/",
          "height": 1276
        }
      },
      "cell_type": "code",
      "source": [
        "# Import the requisite packages\n",
        "import numpy as np\n",
        "import pandas as pd\n",
        "from pandas import Series, DataFrame\n",
        "\n",
        "\n",
        "df = pd.read_csv('https://www.dropbox.com/s/4ec9l887mth6rep/movie_ratings.csv?raw=1')\n",
        "print(df['userid'])\n",
        "df.head()"
      ],
      "execution_count": 0,
      "outputs": [
        {
          "output_type": "stream",
          "text": [
            "0        1\n",
            "1        1\n",
            "2        1\n",
            "3        1\n",
            "4        1\n",
            "5        1\n",
            "6        2\n",
            "7        2\n",
            "8        2\n",
            "9        2\n",
            "10       2\n",
            "11       2\n",
            "12       2\n",
            "13       3\n",
            "14       3\n",
            "15       3\n",
            "16       3\n",
            "17       3\n",
            "18       3\n",
            "19       4\n",
            "20       4\n",
            "21       4\n",
            "22       4\n",
            "23       4\n",
            "24       4\n",
            "25       5\n",
            "26       5\n",
            "27       5\n",
            "28       5\n",
            "29       5\n",
            "      ... \n",
            "650     96\n",
            "651     96\n",
            "652     96\n",
            "653     96\n",
            "654     96\n",
            "655     96\n",
            "656     97\n",
            "657     97\n",
            "658     97\n",
            "659     97\n",
            "660     97\n",
            "661     97\n",
            "662     98\n",
            "663     98\n",
            "664     98\n",
            "665     98\n",
            "666     98\n",
            "667     98\n",
            "668     99\n",
            "669     99\n",
            "670     99\n",
            "671     99\n",
            "672     99\n",
            "673     99\n",
            "674    100\n",
            "675    100\n",
            "676    100\n",
            "677    100\n",
            "678    100\n",
            "679    100\n",
            "Name: userid, Length: 680, dtype: int64\n"
          ],
          "name": "stdout"
        },
        {
          "output_type": "execute_result",
          "data": {
            "text/html": [
              "<div>\n",
              "<style scoped>\n",
              "    .dataframe tbody tr th:only-of-type {\n",
              "        vertical-align: middle;\n",
              "    }\n",
              "\n",
              "    .dataframe tbody tr th {\n",
              "        vertical-align: top;\n",
              "    }\n",
              "\n",
              "    .dataframe thead th {\n",
              "        text-align: right;\n",
              "    }\n",
              "</style>\n",
              "<table border=\"1\" class=\"dataframe\">\n",
              "  <thead>\n",
              "    <tr style=\"text-align: right;\">\n",
              "      <th></th>\n",
              "      <th>userid</th>\n",
              "      <th>movieid</th>\n",
              "      <th>rating</th>\n",
              "    </tr>\n",
              "  </thead>\n",
              "  <tbody>\n",
              "    <tr>\n",
              "      <th>0</th>\n",
              "      <td>1</td>\n",
              "      <td>28</td>\n",
              "      <td>4</td>\n",
              "    </tr>\n",
              "    <tr>\n",
              "      <th>1</th>\n",
              "      <td>1</td>\n",
              "      <td>26</td>\n",
              "      <td>4</td>\n",
              "    </tr>\n",
              "    <tr>\n",
              "      <th>2</th>\n",
              "      <td>1</td>\n",
              "      <td>9</td>\n",
              "      <td>4</td>\n",
              "    </tr>\n",
              "    <tr>\n",
              "      <th>3</th>\n",
              "      <td>1</td>\n",
              "      <td>1</td>\n",
              "      <td>4</td>\n",
              "    </tr>\n",
              "    <tr>\n",
              "      <th>4</th>\n",
              "      <td>1</td>\n",
              "      <td>14</td>\n",
              "      <td>4</td>\n",
              "    </tr>\n",
              "  </tbody>\n",
              "</table>\n",
              "</div>"
            ],
            "text/plain": [
              "   userid  movieid  rating\n",
              "0       1       28       4\n",
              "1       1       26       4\n",
              "2       1        9       4\n",
              "3       1        1       4\n",
              "4       1       14       4"
            ]
          },
          "metadata": {
            "tags": []
          },
          "execution_count": 1
        }
      ]
    },
    {
      "metadata": {
        "id": "irKtXb8723Fs",
        "colab_type": "code",
        "outputId": "543a3712-0581-4921-e055-ba9e0eb7f639",
        "colab": {
          "base_uri": "https://localhost:8080/",
          "height": 2287
        }
      },
      "cell_type": "code",
      "source": [
        "# Transpose the dataset set so that the columns represent the individual movies\n",
        "df_pivot = pd.pivot_table(df, index='userid', columns='movieid', aggfunc=np.max).fillna(0)\n",
        "print(df_pivot)"
      ],
      "execution_count": 0,
      "outputs": [
        {
          "output_type": "stream",
          "text": [
            "        rating                                              ...             \\\n",
            "movieid     1    2    3    4    5    6    7    8    9    10 ...    25   26   \n",
            "userid                                                      ...              \n",
            "1          4.0  0.0  0.0  0.0  0.0  0.0  0.0  0.0  4.0  0.0 ...   0.0  4.0   \n",
            "2          5.0  5.0  0.0  0.0  0.0  0.0  0.0  0.0  0.0  0.0 ...   0.0  0.0   \n",
            "3          4.0  4.0  5.0  0.0  0.0  0.0  0.0  0.0  0.0  0.0 ...   0.0  0.0   \n",
            "4          5.0  5.0  0.0  5.0  5.0  0.0  0.0  0.0  0.0  0.0 ...   0.0  0.0   \n",
            "5          5.0  0.0  0.0  0.0  0.0  0.0  0.0  0.0  5.0  0.0 ...   0.0  0.0   \n",
            "6          5.0  5.0  0.0  0.0  0.0  0.0  0.0  0.0  0.0  0.0 ...   0.0  0.0   \n",
            "7          5.0  0.0  0.0  2.0  0.0  0.0  0.0  0.0  0.0  0.0 ...   0.0  0.0   \n",
            "8          4.0  0.0  5.0  0.0  0.0  0.0  0.0  0.0  0.0  5.0 ...   0.0  0.0   \n",
            "9          5.0  0.0  5.0  0.0  0.0  0.0  0.0  0.0  0.0  0.0 ...   0.0  0.0   \n",
            "10         4.0  0.0  4.0  0.0  0.0  0.0  0.0  4.0  0.0  0.0 ...   0.0  0.0   \n",
            "11         5.0  4.0  5.0  0.0  0.0  0.0  0.0  0.0  0.0  0.0 ...   0.0  0.0   \n",
            "12         5.0  0.0  5.0  0.0  0.0  0.0  0.0  5.0  0.0  0.0 ...   0.0  0.0   \n",
            "13         4.0  0.0  0.0  0.0  0.0  0.0  5.0  0.0  0.0  0.0 ...   0.0  0.0   \n",
            "14         5.0  4.0  5.0  0.0  5.0  0.0  0.0  0.0  0.0  0.0 ...   0.0  0.0   \n",
            "15         5.0  0.0  5.0  5.0  0.0  0.0  0.0  0.0  0.0  0.0 ...   0.0  0.0   \n",
            "16         4.0  0.0  4.0  0.0  0.0  0.0  0.0  4.0  0.0  0.0 ...   0.0  0.0   \n",
            "17         4.0  4.0  4.0  0.0  5.0  0.0  0.0  0.0  0.0  0.0 ...   0.0  0.0   \n",
            "18         5.0  0.0  5.0  0.0  0.0  0.0  0.0  0.0  0.0  0.0 ...   5.0  0.0   \n",
            "19         0.0  5.0  0.0  0.0  0.0  5.0  0.0  0.0  5.0  0.0 ...   5.0  0.0   \n",
            "20         0.0  5.0  0.0  0.0  5.0  0.0  0.0  0.0  0.0  0.0 ...   0.0  0.0   \n",
            "21         0.0  4.0  0.0  0.0  3.0  0.0  0.0  3.0  0.0  0.0 ...   0.0  4.0   \n",
            "22         0.0  4.0  0.0  0.0  0.0  0.0  4.0  0.0  4.0  0.0 ...   0.0  0.0   \n",
            "23         0.0  4.0  0.0  0.0  0.0  0.0  0.0  0.0  0.0  0.0 ...   4.0  0.0   \n",
            "24         0.0  5.0  0.0  0.0  5.0  0.0  0.0  0.0  0.0  5.0 ...   0.0  0.0   \n",
            "25         0.0  5.0  4.0  0.0  0.0  0.0  0.0  0.0  0.0  5.0 ...   0.0  0.0   \n",
            "26         0.0  5.0  0.0  0.0  5.0  5.0  0.0  5.0  0.0  5.0 ...   0.0  0.0   \n",
            "27         0.0  5.0  0.0  0.0  5.0  0.0  0.0  0.0  0.0  0.0 ...   0.0  5.0   \n",
            "28         0.0  5.0  0.0  0.0  0.0  0.0  0.0  0.0  0.0  0.0 ...   5.0  0.0   \n",
            "29         0.0  5.0  0.0  0.0  5.0  0.0  0.0  0.0  0.0  0.0 ...   0.0  0.0   \n",
            "30         0.0  0.0  5.0  0.0  5.0  0.0  0.0  0.0  0.0  5.0 ...   0.0  0.0   \n",
            "...        ...  ...  ...  ...  ...  ...  ...  ...  ...  ... ...   ...  ...   \n",
            "71         0.0  0.0  0.0  0.0  0.0  0.0  0.0  0.0  0.0  0.0 ...   5.0  0.0   \n",
            "72         0.0  0.0  0.0  0.0  0.0  0.0  0.0  0.0  0.0  0.0 ...   0.0  0.0   \n",
            "73         0.0  0.0  0.0  0.0  0.0  0.0  0.0  0.0  0.0  0.0 ...   0.0  0.0   \n",
            "74         0.0  0.0  0.0  0.0  0.0  0.0  0.0  0.0  0.0  0.0 ...   0.0  0.0   \n",
            "75         0.0  0.0  0.0  0.0  0.0  0.0  0.0  0.0  0.0  0.0 ...   0.0  0.0   \n",
            "76         0.0  0.0  0.0  0.0  0.0  0.0  0.0  0.0  0.0  0.0 ...   0.0  0.0   \n",
            "77         0.0  0.0  0.0  0.0  0.0  0.0  0.0  0.0  0.0  0.0 ...   0.0  0.0   \n",
            "78         0.0  0.0  0.0  0.0  0.0  0.0  0.0  0.0  0.0  0.0 ...   0.0  0.0   \n",
            "79         0.0  0.0  0.0  0.0  0.0  0.0  0.0  0.0  0.0  0.0 ...   0.0  0.0   \n",
            "80         0.0  0.0  0.0  0.0  0.0  0.0  0.0  0.0  0.0  0.0 ...   0.0  0.0   \n",
            "81         0.0  0.0  0.0  0.0  0.0  0.0  0.0  0.0  0.0  0.0 ...   0.0  0.0   \n",
            "82         0.0  0.0  0.0  0.0  0.0  0.0  0.0  0.0  0.0  0.0 ...   0.0  4.0   \n",
            "83         0.0  0.0  0.0  0.0  0.0  0.0  0.0  0.0  0.0  0.0 ...   0.0  0.0   \n",
            "84         0.0  0.0  0.0  0.0  0.0  0.0  0.0  0.0  0.0  0.0 ...   0.0  0.0   \n",
            "85         0.0  0.0  0.0  0.0  0.0  0.0  0.0  0.0  0.0  0.0 ...   0.0  0.0   \n",
            "86         0.0  0.0  0.0  0.0  0.0  0.0  0.0  0.0  0.0  0.0 ...   0.0  0.0   \n",
            "87         0.0  0.0  0.0  0.0  0.0  0.0  0.0  0.0  0.0  0.0 ...   0.0  0.0   \n",
            "88         0.0  0.0  0.0  0.0  0.0  0.0  0.0  0.0  0.0  0.0 ...   0.0  0.0   \n",
            "89         0.0  0.0  0.0  0.0  0.0  0.0  0.0  0.0  0.0  0.0 ...   0.0  0.0   \n",
            "90         0.0  0.0  0.0  0.0  0.0  0.0  0.0  0.0  0.0  0.0 ...   0.0  0.0   \n",
            "91         0.0  0.0  0.0  0.0  0.0  0.0  0.0  0.0  0.0  0.0 ...   0.0  0.0   \n",
            "92         0.0  0.0  0.0  0.0  0.0  0.0  0.0  0.0  0.0  0.0 ...   0.0  0.0   \n",
            "93         0.0  0.0  0.0  0.0  0.0  0.0  0.0  0.0  0.0  0.0 ...   0.0  0.0   \n",
            "94         0.0  0.0  0.0  0.0  0.0  0.0  0.0  0.0  0.0  0.0 ...   0.0  0.0   \n",
            "95         0.0  0.0  0.0  0.0  0.0  0.0  0.0  0.0  0.0  0.0 ...   0.0  0.0   \n",
            "96         0.0  0.0  0.0  0.0  0.0  0.0  0.0  0.0  0.0  0.0 ...   0.0  0.0   \n",
            "97         0.0  0.0  0.0  0.0  0.0  0.0  0.0  0.0  0.0  0.0 ...   0.0  0.0   \n",
            "98         0.0  0.0  0.0  0.0  0.0  0.0  0.0  0.0  0.0  0.0 ...   0.0  0.0   \n",
            "99         0.0  0.0  0.0  0.0  0.0  0.0  0.0  0.0  0.0  0.0 ...   0.0  0.0   \n",
            "100        0.0  0.0  0.0  0.0  0.0  0.0  0.0  0.0  0.0  0.0 ...   0.0  0.0   \n",
            "\n",
            "                                                 \n",
            "movieid   27   28   29   30   31   32   33   34  \n",
            "userid                                           \n",
            "1        0.0  4.0  0.0  0.0  0.0  0.0  0.0  0.0  \n",
            "2        0.0  0.0  0.0  0.0  3.0  0.0  0.0  4.0  \n",
            "3        0.0  0.0  0.0  0.0  0.0  0.0  0.0  0.0  \n",
            "4        0.0  0.0  0.0  0.0  0.0  0.0  0.0  0.0  \n",
            "5        0.0  0.0  3.0  0.0  3.0  2.0  5.0  5.0  \n",
            "6        0.0  0.0  0.0  0.0  2.0  5.0  4.0  3.0  \n",
            "7        0.0  0.0  0.0  0.0  0.0  0.0  0.0  4.0  \n",
            "8        5.0  5.0  0.0  0.0  0.0  0.0  0.0  0.0  \n",
            "9        0.0  5.0  4.0  0.0  0.0  0.0  0.0  0.0  \n",
            "10       0.0  0.0  5.0  0.0  0.0  0.0  0.0  0.0  \n",
            "11       0.0  0.0  0.0  0.0  0.0  0.0  0.0  3.0  \n",
            "12       0.0  0.0  0.0  0.0  0.0  0.0  0.0  0.0  \n",
            "13       0.0  0.0  0.0  0.0  0.0  0.0  0.0  0.0  \n",
            "14       0.0  0.0  0.0  0.0  0.0  0.0  0.0  0.0  \n",
            "15       0.0  5.0  0.0  0.0  0.0  0.0  0.0  0.0  \n",
            "16       0.0  0.0  0.0  5.0  0.0  5.0  5.0  4.0  \n",
            "17       0.0  0.0  0.0  0.0  0.0  0.0  0.0  0.0  \n",
            "18       0.0  0.0  0.0  0.0  0.0  0.0  0.0  0.0  \n",
            "19       0.0  0.0  0.0  0.0  0.0  0.0  0.0  0.0  \n",
            "20       0.0  0.0  0.0  0.0  3.0  0.0  4.0  5.0  \n",
            "21       0.0  4.0  1.0  0.0  0.0  1.0  0.0  0.0  \n",
            "22       0.0  0.0  0.0  0.0  0.0  0.0  0.0  0.0  \n",
            "23       0.0  0.0  4.0  0.0  5.0  4.0  3.0  5.0  \n",
            "24       5.0  0.0  0.0  0.0  0.0  0.0  0.0  0.0  \n",
            "25       5.0  0.0  0.0  0.0  0.0  0.0  0.0  0.0  \n",
            "26       5.0  0.0  0.0  0.0  0.0  0.0  0.0  0.0  \n",
            "27       0.0  0.0  0.0  0.0  0.0  0.0  0.0  5.0  \n",
            "28       5.0  5.0  0.0  0.0  0.0  0.0  0.0  0.0  \n",
            "29       0.0  0.0  0.0  0.0  0.0  0.0  0.0  0.0  \n",
            "30       4.0  5.0  0.0  0.0  0.0  0.0  0.0  0.0  \n",
            "...      ...  ...  ...  ...  ...  ...  ...  ...  \n",
            "71       0.0  0.0  0.0  3.0  0.0  3.0  0.0  4.0  \n",
            "72       0.0  0.0  0.0  5.0  0.0  0.0  0.0  0.0  \n",
            "73       0.0  0.0  1.0  0.0  3.0  3.0  1.0  0.0  \n",
            "74       0.0  0.0  2.0  0.0  0.0  5.0  0.0  0.0  \n",
            "75       0.0  0.0  5.0  0.0  5.0  5.0  0.0  4.0  \n",
            "76       0.0  0.0  0.0  2.0  3.0  4.0  4.0  5.0  \n",
            "77       0.0  0.0  0.0  3.0  4.0  5.0  0.0  5.0  \n",
            "78       0.0  0.0  3.0  0.0  1.0  0.0  0.0  0.0  \n",
            "79       0.0  0.0  3.0  0.0  0.0  4.0  0.0  0.0  \n",
            "80       0.0  0.0  5.0  0.0  1.0  5.0  5.0  4.0  \n",
            "81       0.0  0.0  5.0  0.0  0.0  2.0  5.0  0.0  \n",
            "82       0.0  0.0  0.0  0.0  0.0  0.0  0.0  0.0  \n",
            "83       0.0  0.0  4.0  0.0  5.0  5.0  4.0  5.0  \n",
            "84       0.0  0.0  5.0  0.0  5.0  0.0  4.0  0.0  \n",
            "85       0.0  0.0  0.0  3.0  0.0  5.0  0.0  0.0  \n",
            "86       0.0  0.0  4.0  0.0  1.0  3.0  3.0  5.0  \n",
            "87       0.0  0.0  0.0  3.0  1.0  4.0  3.0  4.0  \n",
            "88       0.0  0.0  4.0  0.0  5.0  5.0  4.0  0.0  \n",
            "89       0.0  0.0  3.0  0.0  4.0  5.0  5.0  2.0  \n",
            "90       0.0  0.0  4.0  0.0  1.0  3.0  4.0  2.0  \n",
            "91       0.0  0.0  0.0  4.0  4.0  4.0  5.0  2.0  \n",
            "92       0.0  0.0  0.0  0.0  1.0  4.0  1.0  5.0  \n",
            "93       0.0  0.0  0.0  3.0  0.0  0.0  4.0  4.0  \n",
            "94       0.0  0.0  0.0  2.0  5.0  5.0  2.0  4.0  \n",
            "95       0.0  0.0  0.0  5.0  4.0  5.0  4.0  3.0  \n",
            "96       0.0  0.0  0.0  1.0  1.0  3.0  1.0  4.0  \n",
            "97       0.0  0.0  0.0  5.0  4.0  4.0  4.0  5.0  \n",
            "98       0.0  0.0  5.0  0.0  4.0  5.0  4.0  5.0  \n",
            "99       0.0  0.0  0.0  1.0  3.0  5.0  3.0  3.0  \n",
            "100      1.0  0.0  3.0  0.0  4.0  3.0  3.0  5.0  \n",
            "\n",
            "[100 rows x 34 columns]\n"
          ],
          "name": "stdout"
        }
      ]
    },
    {
      "metadata": {
        "id": "I6duS5vBFwDn",
        "colab_type": "text"
      },
      "cell_type": "markdown",
      "source": [
        "We will utilize ** Matrix Factorization** to arrive at the 2 matrices i.e. **a)** User Ratings (across attributes)** b) ** Movie Ratings (across attributes). Once we have the 2 matrices, we will compute the \"dot\" product of the 2 matrices to come up with an estimate/prediction for the  missing user ratings \n",
        "\n",
        "There are a few different variations of the \"Matrix Factorization\" implementation, we will use the code put together by Albert Yeung: http://www.quuxlabs.com/wp-content/uploads/2010/09/mf.py_.txt\n",
        "\n",
        "The mathematics behind \"Matrix Factorization\" can be reviewed here: http://www.quuxlabs.com/blog/2010/09/matrix-factorization-a-simple-tutorial-and-implementation-in-python/#source-code\n",
        "\n",
        "Another resource on the concepts of \"Matrix Factorization\": https://www.youtube.com/watch?v=o8PiWO8C3zs\n",
        "\n",
        "\n"
      ]
    },
    {
      "metadata": {
        "id": "Bobs6WxUL9ht",
        "colab_type": "code",
        "outputId": "4df9e416-c53c-4cec-ab2f-0f5a23a0e461",
        "colab": {
          "base_uri": "https://localhost:8080/",
          "height": 173
        }
      },
      "cell_type": "code",
      "source": [
        "#\n",
        "# Created by Albert Au Yeung (2010)\n",
        "#\n",
        "# An implementation of matrix factorization\n",
        "#\n",
        "\n",
        "!pip install numba\n",
        "from numba import jit\n",
        "\n",
        "@jit\n",
        "def matrix_factorization(R, P, Q, K, steps=5000, alpha=0.0002, beta=0.02):\n",
        "    Q = Q.T\n",
        "    for step in range(steps):\n",
        "        for i in range(len(R)):\n",
        "            for j in range(len(R[i])):\n",
        "                if R[i][j] > 0:\n",
        "                    eij = R[i][j] - np.dot(P[i,:],Q[:,j])\n",
        "                    for k in range(K):\n",
        "                        P[i][k] = P[i][k] + alpha * (2 * eij * Q[k][j] - beta * P[i][k])\n",
        "                        Q[k][j] = Q[k][j] + alpha * (2 * eij * P[i][k] - beta * Q[k][j])\n",
        "        eR = np.dot(P,Q)\n",
        "        e = 0\n",
        "        for i in range(len(R)):\n",
        "            for j in range(len(R[i])):\n",
        "                if R[i][j] > 0:\n",
        "                    e = e + pow(R[i][j] - np.dot(P[i,:],Q[:,j]), 2)\n",
        "                    for k in range(K):\n",
        "                        e = e + (beta/2) * ( pow(P[i][k],2) + pow(Q[k][j],2) )\n",
        "        if e < 0.001:\n",
        "            break\n",
        "    return P, Q.T"
      ],
      "execution_count": 0,
      "outputs": [
        {
          "output_type": "stream",
          "text": [
            "Collecting numba\n",
            "\u001b[?25l  Downloading https://files.pythonhosted.org/packages/00/36/41d894e24e0d00d85e7ed10880deb391f6b6679ae43db25ea6d036476c8c/numba-0.38.0-cp36-cp36m-manylinux1_x86_64.whl (1.9MB)\n",
            "\u001b[K    100% |████████████████████████████████| 1.9MB 6.5MB/s \n",
            "\u001b[?25hRequirement already satisfied: numpy in /usr/local/lib/python3.6/dist-packages (from numba) (1.14.3)\n",
            "Collecting llvmlite>=0.23.0dev0 (from numba)\n",
            "\u001b[?25l  Downloading https://files.pythonhosted.org/packages/4c/71/9ac956af0bc8e6624db7ff1653426a4d3f2fcb72bc6707f022158e62b64f/llvmlite-0.23.0-cp36-cp36m-manylinux1_x86_64.whl (15.8MB)\n",
            "\u001b[K    100% |████████████████████████████████| 15.8MB 2.9MB/s \n",
            "\u001b[?25hInstalling collected packages: llvmlite, numba\n",
            "Successfully installed llvmlite-0.23.0 numba-0.38.0\n"
          ],
          "name": "stdout"
        }
      ]
    },
    {
      "metadata": {
        "id": "0P2rvOAZMAfW",
        "colab_type": "code",
        "colab": {}
      },
      "cell_type": "code",
      "source": [
        "   # R     : a matrix to be factorized, dimension N x M\n",
        "   # P     : an initial matrix of dimension N x K\n",
        "   # Q     : an initial matrix of dimension M x K\n",
        "   # K     : the number of latent features\n",
        "   # steps : the maximum number of steps to perform the optimization\n",
        "   # alpha : the learning rate\n",
        "   # beta  : the regularization parameter  \n",
        "    R = df_pivot.as_matrix()\n",
        "    N = len(R)\n",
        "    M = len(R[0])\n",
        "    K = 2\n",
        "\n",
        "    P = np.random.rand(N,K) # Matrix of user attributes\n",
        "    Q = np.random.rand(M,K) # Matrix of movie attributes\n",
        "\n",
        "    nP, nQ = matrix_factorization(R, P, Q, K)"
      ],
      "execution_count": 0,
      "outputs": []
    },
    {
      "metadata": {
        "id": "qejbQxY1NRhk",
        "colab_type": "code",
        "outputId": "dc347408-1bc4-4c1c-f23f-ef90bff53960",
        "colab": {
          "base_uri": "https://localhost:8080/",
          "height": 173
        }
      },
      "cell_type": "code",
      "source": [
        "# User Movie Ratings = User Ratings (across attributes) **X** Movie Ratings (across the same set of attributes) \n",
        "\n",
        "nR = np.dot(nP, nQ.T)\n",
        "\n",
        "print(nR) # Estimate/Prediction for the user movie ratings\n",
        "\n",
        "#print(nP)\n",
        "\n",
        "#print(nQ)\n"
      ],
      "execution_count": 0,
      "outputs": [
        {
          "output_type": "stream",
          "text": [
            "[[4.16949426 4.00094755 4.38628723 ... 3.93984333 3.63661991 3.50775916]\n",
            " [4.75419792 4.73640583 4.9381229  ... 4.16857892 3.90554048 4.18568233]\n",
            " [4.21311097 4.02060268 4.44022549 ... 4.02226999 3.70534666 3.52077514]\n",
            " ...\n",
            " [5.74591861 5.82458651 5.9318675  ... 4.85216774 4.58176744 5.16566103]\n",
            " [4.05492735 4.14191961 4.17473294 ... 3.36576601 3.18987085 3.67901065]\n",
            " [4.24223539 4.40741402 4.34066666 ... 3.38354395 3.2346989  3.92806678]]\n"
          ],
          "name": "stdout"
        },
        {
          "output_type": "execute_result",
          "data": {
            "text/plain": [
              "array([4., 0., 0., 0., 0., 0., 0., 0., 4., 0., 0., 0., 5., 4., 0., 0., 0.,\n",
              "       0., 0., 0., 0., 0., 0., 0., 0., 4., 0., 4., 0., 0., 0., 0., 0., 0.])"
            ]
          },
          "metadata": {
            "tags": []
          },
          "execution_count": 28
        }
      ]
    },
    {
      "metadata": {
        "id": "oMorEFt-jIyj",
        "colab_type": "text"
      },
      "cell_type": "markdown",
      "source": [
        "### Objective 3: Measure Recommendation Accuracy"
      ]
    },
    {
      "metadata": {
        "id": "kn1vvqjakGA-",
        "colab_type": "text"
      },
      "cell_type": "markdown",
      "source": [
        "To measure the accuracy of estimated \"User Movie Ratings\" , we will use a  statistical metric called root-mean-square-error (RMSE). RMSE is a meaure of the difference between the user's *actual *movie ratings and the ratings that were predicted for the same movies. \n",
        "\n",
        "The lower the root-mean-square-error, the more accurate the model. A root-mean-square-error of zero means our model perfectly estimates user ratings. If the root-mean-square-error for the test set is much higher than that of the training set, it is likely that you may have overfitted the data. In this example scenario, we are off by about one rating star on average when predicting user ratings.\n",
        "\n",
        "We could adjust the **regularization** amount parameter to improve the accuracy of the recommendations. Regularization limits the amount of weight we place on a single attribute when finding user/item features with matrix factorization. The higher we set the regularization amount, the less weight we put on any single attribute. When you are building a recommendation engine, you will want to experiment with different regularization values to see how it affects the quality of your recommendations.\n",
        "\n",
        "**Note**: One limitation that we faced in this example scenario is that we only had a few hundred movie reviews to work with; the best thing that could be done to improve accuracy in this case is to get more user reviews. More movie reviews will give our engine more information to work with so it can do a better job of making recommendations.\n",
        "\n",
        "\n",
        "\n"
      ]
    },
    {
      "metadata": {
        "id": "ldJp1JPcjSyM",
        "colab_type": "code",
        "outputId": "764ef8d9-e14c-4fb1-e51f-505da2f35b53",
        "colab": {
          "base_uri": "https://localhost:8080/",
          "height": 51
        }
      },
      "cell_type": "code",
      "source": [
        "# Import the requisite packages\n",
        "import numpy as np\n",
        "import pandas as pd\n",
        "from pandas import Series, DataFrame\n",
        "\n",
        "# Load user ratings\n",
        "df_training = pd.read_csv('https://www.dropbox.com/s/ej76ujnyxmxn2mi/movie_ratings_training.csv?raw=1')\n",
        "df_testing = pd.read_csv('https://www.dropbox.com/s/h5jwlmnaxu5xdvq/movie_ratings_testing.csv?raw=1')\n",
        "\n",
        "# Convert the running list of user ratings into a matrix\n",
        "df_training = pd.pivot_table(df_training, index='userid', columns='movieid', aggfunc=np.max)\n",
        "df_testing = pd.pivot_table(df_testing, index='userid', columns='movieid', aggfunc=np.max)\n",
        "\n",
        "R = df_training.as_matrix()\n",
        "N = len(R)\n",
        "M = len(R[0])\n",
        "K = 2\n",
        "\n",
        "P = np.random.rand(N,K) # Matrix of user attributes\n",
        "Q = np.random.rand(M,K) # Matrix of movie attributes\n",
        "\n",
        "nP, nQ = matrix_factorization(R, P, Q, K)\n",
        "\n",
        "# Find all predicted ratings by multiplying nP and nQ \n",
        "   \n",
        "nR = np.dot(nP, nQ.T)\n",
        "\n",
        "# print(nR) # Estimate/Prediction for the user movie ratings\n",
        "\n",
        "def RMSE(real, predicted):\n",
        "\n",
        "  return np.sqrt(np.nanmean(np.square(real - predicted)))\n",
        "\n",
        "# Measure RMSE\n",
        "training_rmse = RMSE(df_training.as_matrix(), nR)\n",
        "testing_rmse = RMSE(df_testing.as_matrix(), nR)\n",
        "\n",
        "print(\"Training RMSE is: {}\".format(training_rmse))\n",
        "print(\"Testing RMSE is: {}\".format(testing_rmse))"
      ],
      "execution_count": 0,
      "outputs": [
        {
          "output_type": "stream",
          "text": [
            "Training RMSE is: 0.607810674077778\n",
            "Testing RMSE is: 1.193911645470413\n"
          ],
          "name": "stdout"
        }
      ]
    },
    {
      "metadata": {
        "id": "lVvrYn4WgWqz",
        "colab_type": "text"
      },
      "cell_type": "markdown",
      "source": [
        "**Additional Resources on Collaborative Filtering for your reference:** https://towardsdatascience.com/various-implementations-of-collaborative-filtering-100385c6dfe0"
      ]
    },
    {
      "metadata": {
        "id": "YNEmHziOtA6q",
        "colab_type": "text"
      },
      "cell_type": "markdown",
      "source": [
        "# Assignment"
      ]
    },
    {
      "metadata": {
        "id": "ZtCTNdlQtJio",
        "colab_type": "text"
      },
      "cell_type": "markdown",
      "source": [
        "Write a function `recommend_for_user(user)` that takes a user and returns the top 5 recommended movies for them to watch that they have not already rated.\n",
        "\n",
        "You should use the code from the lecture and coding challenge, and experiment with different approaches - you can use the predicted ratings we generated above, and you can experiment with different distance measurements or hybrid approaches (considering item similarity). You can also try an approach where e.g. you find the `n` users most similar to the given user, and average their preferences to generate new ratings and recommendations.\n",
        "\n",
        "The end result should be a function that is reusable and suitable for an application and that satisfies this spec:\n",
        "\n",
        "```\n",
        "def recommend_for_user(user, n=5):\n",
        "  \"\"\"\n",
        "  Generate movie recommendations for a user.\n",
        "  Input: userId (from MovieLens data)\n",
        "  Output: list of tuples (movieId, predictedRating) of top n movies recommended for user (not previously rated by them)\n",
        "  \"\"\"\n",
        "  pass\n",
        "```\n",
        "\n",
        "As a stretch goal, prepare the data such that you generate test data - get a subset of users and drop some of their top ratings (favorite movies), then generate recommendations for them and see if they get recommended those movies and at what rating.\n",
        "\n",
        "Part of the goal here is to think about making your code general and reusable, so it could plug into an actual live recommendation system. As a super-stretch goal, you can explore popular Python web application frameworks - these are the tools used to build the back-end that exposes an API so data can be displayed to the user.\n",
        "\n",
        "- http://flask.pocoo.org/ - popular minimal framework\n",
        "- https://www.djangoproject.com/ - \"industry-grade\" framework (more complicated, includes more features)\n",
        "\n",
        "In a real-world situation, your role in a team could be ensuring that the API endpoint for generating recommendations does what it should (so everyone else can build on it). In web application terminology, this means that some route (e.g. `/recommendations/<user>`) can accept requests and return JSON data in response, essentially wrapping the function you built for this assignment."
      ]
    },
    {
      "metadata": {
        "id": "Lq7x_NZJqz2X",
        "colab_type": "code",
        "outputId": "276d003f-99d2-4602-c887-cc8a9c945ab2",
        "colab": {
          "base_uri": "https://localhost:8080/",
          "height": 392
        }
      },
      "cell_type": "code",
      "source": [
        "def recommend_for_user(user):\n",
        "  user_ratings = list(df_pivot.iloc[user-1].values)\n",
        "  print(user_ratings)\n",
        "  all_ratings = nR[user-1]\n",
        "  print(all_ratings)\n",
        "  seen = [i for i, e in enumerate(user_ratings) if e != 0]\n",
        "  print('seen: ', seen)\n",
        "  sorted_ix = sorted(range(len(all_ratings)), key=lambda k: all_ratings[k])\n",
        "  print('sorted_ix: ', sorted_ix)\n",
        "  sorted_unseen = [x for x in sorted_ix if x not in seen]\n",
        "  print('sorted_unseen: ', sorted_unseen)\n",
        "  rec = list(sorted_unseen)[-5:]\n",
        "  return rec\n",
        "\n",
        "print(recommend_for_user(1))\n",
        "df.head()"
      ],
      "execution_count": 0,
      "outputs": [
        {
          "output_type": "stream",
          "text": [
            "[4.0, 0.0, 0.0, 0.0, 0.0, 0.0, 0.0, 0.0, 4.0, 0.0, 0.0, 0.0, 5.0, 4.0, 0.0, 0.0, 0.0, 0.0, 0.0, 0.0, 0.0, 0.0, 0.0, 0.0, 0.0, 4.0, 0.0, 4.0, 0.0, 0.0, 0.0, 0.0, 0.0, 0.0]\n",
            "[4.16949426 4.00094755 4.38628723 4.48494697 4.54291464 4.16819384\n",
            " 3.80186879 4.24308881 4.15864069 4.45835915 3.94217415 4.08909013\n",
            " 4.21758252 4.05269627 3.0963399  3.88520256 2.60472788 3.15816033\n",
            " 3.38061387 3.97707332 4.15196873 3.93745817 3.1504073  4.22236707\n",
            " 4.41832625 4.20423269 4.15659528 4.15817776 2.90423789 3.76100816\n",
            " 3.86695953 3.93984333 3.63661991 3.50775916]\n",
            "seen:  [0, 8, 12, 13, 25, 27]\n",
            "sorted_ix:  [16, 28, 14, 22, 17, 18, 33, 32, 29, 6, 30, 15, 21, 31, 10, 19, 1, 13, 11, 20, 26, 27, 8, 5, 0, 25, 12, 23, 7, 2, 24, 9, 3, 4]\n",
            "sorted_unseen:  [16, 28, 14, 22, 17, 18, 33, 32, 29, 6, 30, 15, 21, 31, 10, 19, 1, 11, 20, 26, 5, 23, 7, 2, 24, 9, 3, 4]\n",
            "[2, 24, 9, 3, 4]\n"
          ],
          "name": "stdout"
        },
        {
          "output_type": "execute_result",
          "data": {
            "text/html": [
              "<div>\n",
              "<style scoped>\n",
              "    .dataframe tbody tr th:only-of-type {\n",
              "        vertical-align: middle;\n",
              "    }\n",
              "\n",
              "    .dataframe tbody tr th {\n",
              "        vertical-align: top;\n",
              "    }\n",
              "\n",
              "    .dataframe thead th {\n",
              "        text-align: right;\n",
              "    }\n",
              "</style>\n",
              "<table border=\"1\" class=\"dataframe\">\n",
              "  <thead>\n",
              "    <tr style=\"text-align: right;\">\n",
              "      <th></th>\n",
              "      <th>userid</th>\n",
              "      <th>movieid</th>\n",
              "      <th>rating</th>\n",
              "    </tr>\n",
              "  </thead>\n",
              "  <tbody>\n",
              "    <tr>\n",
              "      <th>0</th>\n",
              "      <td>1</td>\n",
              "      <td>28</td>\n",
              "      <td>4</td>\n",
              "    </tr>\n",
              "    <tr>\n",
              "      <th>1</th>\n",
              "      <td>1</td>\n",
              "      <td>26</td>\n",
              "      <td>4</td>\n",
              "    </tr>\n",
              "    <tr>\n",
              "      <th>2</th>\n",
              "      <td>1</td>\n",
              "      <td>9</td>\n",
              "      <td>4</td>\n",
              "    </tr>\n",
              "    <tr>\n",
              "      <th>3</th>\n",
              "      <td>1</td>\n",
              "      <td>1</td>\n",
              "      <td>4</td>\n",
              "    </tr>\n",
              "    <tr>\n",
              "      <th>4</th>\n",
              "      <td>1</td>\n",
              "      <td>14</td>\n",
              "      <td>4</td>\n",
              "    </tr>\n",
              "  </tbody>\n",
              "</table>\n",
              "</div>"
            ],
            "text/plain": [
              "   userid  movieid  rating\n",
              "0       1       28       4\n",
              "1       1       26       4\n",
              "2       1        9       4\n",
              "3       1        1       4\n",
              "4       1       14       4"
            ]
          },
          "metadata": {
            "tags": []
          },
          "execution_count": 39
        }
      ]
    }
  ]
}