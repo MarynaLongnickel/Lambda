{
  "nbformat": 4,
  "nbformat_minor": 0,
  "metadata": {
    "colab": {
      "name": "Marina - Model Tuning Assignment.ipynb",
      "version": "0.3.2",
      "provenance": [],
      "collapsed_sections": []
    },
    "kernelspec": {
      "name": "python3",
      "display_name": "Python 3"
    }
  },
  "cells": [
    {
      "metadata": {
        "id": "j3-9qZ80euzF",
        "colab_type": "text"
      },
      "cell_type": "markdown",
      "source": [
        "# Part One: K-fold Cross Validation\n",
        "\n",
        "The challenge of training machine learning models is to be able to make accurate predictions on previously unseen real-world data in spite of the fact that we only have a finite training dataset to learn from. \n",
        "\n",
        "One way of validating our model's quality-of-fit and avoiding overfitting/underfitting, is to use the test_train_split method like we did in the code challenge. With this method, the randomly selected test dataset can be used to evaluate how our model performs on data that it has not yet seen in the training process. However, there are downsides to this approach:\n",
        "\n",
        "*   We lose a valuable portion of data that we would prefer to be able to train on to serve as the test dataset. We would prefer to have both the testing and training datasets be as large as possible.\n",
        "*   With small datasets, measures of our model's quality using the test_train_split method often have a high variance. (We saw this behavior when we changed the random seed in the code challenge)\n",
        "\n",
        "We can reduce the severity of both of these drawbacks by using what is called K-fold Cross Validation:\n",
        "\n",
        "[Short Video Explaining K-Fold Cross Validation](https://www.youtube.com/watch?v=TIgfjmp-4BA)\n",
        "\n",
        "[How to Implement K-Fold Cross Validation on the Pima Indians Diabetes dataset](https://machinelearningmastery.com/evaluate-performance-machine-learning-algorithms-python-using-resampling/)"
      ]
    },
    {
      "metadata": {
        "id": "--BmLEQgtT-y",
        "colab_type": "text"
      },
      "cell_type": "markdown",
      "source": [
        ""
      ]
    },
    {
      "metadata": {
        "id": "8-xSRguyK0SS",
        "colab_type": "text"
      },
      "cell_type": "markdown",
      "source": [
        "## DO THIS:\n",
        "\n",
        "**1)** Train a logistic regression model on the titanic dataset predicting survivors first using a 20-80% test_train_split and print the accuracy of your model using 5 different random seeds.\n",
        "\n",
        "**2)** Use 5-fold Cross Validation on the titanic dataset. Print out the accuracies from each of the 5 folds of the cross validation, then print the final mean and standard deviation of those cross validation accuracies. How do the accuracies on each of the inidvidual folds compare to the accuracies of the test_train_split approach? Is the variance in accuracies of the cross-validation approach higher or lower than the variance of the test_train_split approach? \n",
        "\n",
        "**3)** Try using 3-fold Cross Validation as well as 10-fold cross validation. How does the number of folds in the cross-validation process affect the outcome? How many folds should be used?\n",
        "\n",
        "---\n",
        "I would give you more boilerplate code here, but I don't want to make it too easy. The articles linked above should be sufficient for this purpose."
      ]
    },
    {
      "metadata": {
        "id": "kqwcuyA9K6dq",
        "colab_type": "code",
        "outputId": "9d0d5ecb-e6ab-4d51-93b8-e92f4a1edace",
        "colab": {
          "base_uri": "https://localhost:8080/",
          "height": 69
        }
      },
      "cell_type": "code",
      "source": [
        "##### YOUR CODE HERE ##### - Feel free to add code cells as necessary.\n",
        "\n",
        "import numpy as np\n",
        "import seaborn as sns\n",
        "import matplotlib.pyplot as plt\n",
        "from sklearn.metrics import accuracy_score\n",
        "from sklearn.preprocessing import LabelEncoder\n",
        "from sklearn.linear_model import LogisticRegression\n",
        "from sklearn.model_selection import train_test_split, KFold, cross_val_score\n",
        "\n",
        "titanic = sns.load_dataset('titanic')\n",
        "titanic = titanic.drop(['alive','adult_male','who','class','embark_town'], axis=1)\n",
        "titanic['embarked'] = titanic['embarked'].fillna(method='ffill')\n",
        "titanic = titanic.drop(['deck'], axis=1)\n",
        "titanic['age'] = titanic['age'].fillna(method='ffill')\n",
        "\n",
        "# Convert binomials and categoricals to encoded labels\n",
        "for label in ['embarked','sex', 'alone']:\n",
        "    titanic[label] = LabelEncoder().fit_transform(titanic[label])\n",
        "\n",
        "    \n",
        "results1 = []\n",
        "\n",
        "for seed in [1, 10, 25, 54, 75]:\n",
        "  train_x, test_x, train_y, test_y = train_test_split(titanic.drop(['survived'], 1), titanic['survived'], test_size = 0.2, random_state=seed)\n",
        "\n",
        "  regr = LogisticRegression()\n",
        "  regr.fit(train_x,train_y)\n",
        "  y_hat = regr.predict(test_x)\n",
        "  \n",
        "  s = accuracy_score(test_y, y_hat)* 100\n",
        "  results1.append(s)\n",
        "  \n",
        "print(results1)\n",
        "print(np.mean(results1))\n",
        "print(np.std(results1))"
      ],
      "execution_count": 0,
      "outputs": [
        {
          "output_type": "stream",
          "text": [
            "[78.77094972067039, 81.00558659217877, 81.00558659217877, 77.09497206703911, 75.41899441340783]\n",
            "78.65921787709496\n",
            "2.1894880382419446\n"
          ],
          "name": "stdout"
        }
      ]
    },
    {
      "metadata": {
        "id": "Hqwyzbgbvl0i",
        "colab_type": "code",
        "outputId": "80ff6aa9-3c87-4372-fa6d-34e96c5c88bb",
        "colab": {
          "base_uri": "https://localhost:8080/",
          "height": 51
        }
      },
      "cell_type": "code",
      "source": [
        "x = titanic.drop(['survived'], 1)\n",
        "y = titanic['survived']\n",
        "\n",
        "kfold = KFold(n_splits=5, random_state=42)\n",
        "model = LogisticRegression()\n",
        "results = cross_val_score(model, x, y, cv=kfold)\n",
        "print(results)\n",
        "print(\"Accuracy: %.3f (%.3f)\" % (results.mean()*100.0, results.std()*100.0))"
      ],
      "execution_count": 0,
      "outputs": [
        {
          "output_type": "stream",
          "text": [
            "[0.78212291 0.80337079 0.7752809  0.75842697 0.83707865]\n",
            "Accuracy: 79.126 (2.707)\n"
          ],
          "name": "stdout"
        }
      ]
    },
    {
      "metadata": {
        "id": "YRkZ2GmVyqm2",
        "colab_type": "text"
      },
      "cell_type": "markdown",
      "source": [
        "The accuracies of each individual fold are about the same as the test_train_split approach. The variance in accuracies of the cross-validation approach is higher than the variance of the test_train_split approach."
      ]
    },
    {
      "metadata": {
        "id": "EaLdpq6ZzU35",
        "colab_type": "code",
        "outputId": "4d1aa391-54f9-4885-fc13-1048f551e121",
        "colab": {
          "base_uri": "https://localhost:8080/",
          "height": 1024
        }
      },
      "cell_type": "code",
      "source": [
        "m = []\n",
        "s = []\n",
        "\n",
        "for k in range(2, 100, 5):\n",
        "  kfold = KFold(n_splits=k, random_state=42)\n",
        "  model = LogisticRegression()\n",
        "  results = cross_val_score(model, x, y, cv=kfold)\n",
        "  m.append(results.mean()*100)\n",
        "  s.append(results.std()*100)\n",
        "  print(\"Folds: %.0f Accuracy: %.3f (%.3f)\" % (k, results.mean()*100.0, results.std()*100.0))\n",
        "  \n",
        "plt.plot(m, 'r')\n",
        "plt.show()\n",
        "plt.plot(s, 'g')\n",
        "plt.show()"
      ],
      "execution_count": 0,
      "outputs": [
        {
          "output_type": "stream",
          "text": [
            "Folds: 2 Accuracy: 78.452 (0.874)\n",
            "Folds: 7 Accuracy: 79.015 (1.828)\n",
            "Folds: 12 Accuracy: 79.464 (2.997)\n",
            "Folds: 17 Accuracy: 79.461 (3.683)\n",
            "Folds: 22 Accuracy: 79.695 (3.577)\n",
            "Folds: 27 Accuracy: 79.574 (5.569)\n",
            "Folds: 32 Accuracy: 79.584 (4.905)\n",
            "Folds: 37 Accuracy: 79.811 (5.677)\n",
            "Folds: 42 Accuracy: 79.690 (7.971)\n",
            "Folds: 47 Accuracy: 79.582 (8.372)\n",
            "Folds: 52 Accuracy: 79.707 (8.398)\n",
            "Folds: 57 Accuracy: 79.715 (9.393)\n",
            "Folds: 62 Accuracy: 79.693 (10.119)\n",
            "Folds: 67 Accuracy: 79.597 (11.044)\n",
            "Folds: 72 Accuracy: 79.692 (10.174)\n",
            "Folds: 77 Accuracy: 79.713 (10.114)\n",
            "Folds: 82 Accuracy: 79.579 (11.273)\n",
            "Folds: 87 Accuracy: 79.592 (12.720)\n",
            "Folds: 92 Accuracy: 79.722 (11.862)\n",
            "Folds: 97 Accuracy: 79.691 (12.305)\n"
          ],
          "name": "stdout"
        },
        {
          "output_type": "display_data",
          "data": {
            "image/png": "[encoded data removed]",
            "text/plain": [
              "<matplotlib.figure.Figure at 0x7ff3eccbee48>"
            ]
          },
          "metadata": {
            "tags": []
          }
        },
        {
          "output_type": "display_data",
          "data": {
            "image/png": "[encoded data removed]",
            "text/plain": [
              "<matplotlib.figure.Figure at 0x7ff3ecdf3438>"
            ]
          },
          "metadata": {
            "tags": []
          }
        }
      ]
    },
    {
      "metadata": {
        "id": "bgehr8PG0d7f",
        "colab_type": "text"
      },
      "cell_type": "markdown",
      "source": [
        "Increasing number of folds improves accuracy to a certain point. The standard deviation increases with the number of folds. The number of kfolds would probably depend on the size of the dataset and the amount of time available for calculations.\n"
      ]
    },
    {
      "metadata": {
        "id": "1qRSmAPZo0Qr",
        "colab_type": "text"
      },
      "cell_type": "markdown",
      "source": [
        "# Part Two: Hyperparameter Tuning\n",
        "\n",
        "An important technique for improving the accuracy of a machine learning model is to undertake a process known as Hyperparameter Tuning or Hyperparameter Optimization. In order to understand this process, we first need to understand the difference between a model parameter and a model hyperparameter. \n",
        "\n",
        "### What is a model parameter?\n",
        "\n",
        "A model parameter is a value that is generated by fitting our model to training data and is key to generating predictions with that model. They are **internal** to our model and we often are trying to estimate them as best as possible when we train the algorithm. \n",
        "\n",
        "For example, the parameters of a linear regression model would be its intercept value as well as the coefficient values on each of the X variables. Estimates of these crucial values (parameters) are obtained by fitting to the training data, perfectly define the model, are internal to the model, and are key to generating predictions. They are model parameters in every sense. \n",
        "\n",
        "### What is a model hyperparameter?\n",
        "\n",
        "Hyperparameters are values that are key to how well our algorithm runs, yet are **external** to our model and cannot be estimated from the training process. They are more like settings for our algorithm which must be designated before it is run and impact its performance. Here is some further reading:\n",
        "\n",
        "[Hyperparamters explanation on Quora](https://www.quora.com/What-are-hyperparameters-in-machine-learning)\n",
        "\n",
        "[Jason Brownlee Article on the difference between Parameters and Hyperparameters](https://machinelearningmastery.com/difference-between-a-parameter-and-a-hyperparameter/)\n",
        "\n",
        "### How do we find the best hyperparameters?\n",
        "\n",
        "Since we can't learn the best hyperparameters for our model from the data, we essentially just pick values and see which ones lead to the highest accuracy. This can be a tedious and complex process especially for certain models like neural networks which can have dozens of hyperparameters. We will get you familiar with the process using a more simple logistic regression model. \n",
        "\n",
        "### How do you know what hyperparameters exist for your particular model? \n",
        "\n",
        "Most models/libraries have default hyperparameters that will be used if we don't specify them. In the model selection process you might try out multiple models on a dataset and see which one gets you the highest out-of-the-box performance, (using the default hyperparameters) and then pick a couple of the highest performing algorithms and attempt hyperparameter tuning on them to compare how different models benefit from this process. Once you have narrowed down the models that you would like to tune, a quick google search can tell you what hyperparameters exist for that algorithm. \n",
        "\n",
        "Often you can learn about potential hyperparameters by looking at the documentation for a given algorithm in a library, here's the documentation for sklearn's logistic regression, see if you can spot the hyperparameters:\n",
        "\n",
        "[scikit-learn logistic regression docs](http://scikit-learn.org/stable/modules/generated/sklearn.linear_model.LogisticRegressionCV.html)\n",
        "\n"
      ]
    },
    {
      "metadata": {
        "id": "wADqKJAgSqgI",
        "colab_type": "text"
      },
      "cell_type": "markdown",
      "source": [
        "## DO THIS: \n",
        "\n",
        "Lets hyperparameter tune our **titanic** predictions using 5-fold cross validation to compare the accuracy of our tuned models. \n",
        "\n",
        "### Manual Hyperparameter Tuning:\n",
        "\n",
        "For our assignment today we are going to tune the 'C value' also known as the 'regularization strength' of our logistic regression as well as 'penalty' of our logistic regression algorithm.\n",
        "\n",
        "Read up on the regularlization strength and penalty of a logistic regression function. What might be some good values to test out? Hint: Look at the parameter definitions on the sci-kit learn logistic regression documentation. \n",
        "\n",
        "[scikit-learn logistic regression docs](http://scikit-learn.org/stable/modules/generated/sklearn.linear_model.LogisticRegressionCV.html)\n",
        "\n",
        "[Regularization in Logistic Regression](https://www.kdnuggets.com/2016/06/regularization-logistic-regression.html)\n",
        "\n",
        "Fit your model 5 different times using 5 different C values of your choosing. Which value gives the highest accuracy? \n",
        "\n",
        "There are only two penalty values that we can use. Evaluate the model two more times using each penalty once. Which penalty gives the highest accuracy?"
      ]
    },
    {
      "metadata": {
        "id": "UJujhJnetnr3",
        "colab_type": "code",
        "outputId": "cd770e82-e5b6-409c-92bf-ceafbce2885b",
        "colab": {
          "base_uri": "https://localhost:8080/",
          "height": 34
        }
      },
      "cell_type": "code",
      "source": [
        "# The sample code below uses the Pima Indans Diabetes Dataset. \n",
        "# Here we are setting the C value hyperparameter to 1 and the penalty hyperparameter to \"l1\". \n",
        "# You can designate your hyperparameters in a similar fashion.\n",
        "\n",
        "import pandas\n",
        "from sklearn import model_selection\n",
        "from sklearn.linear_model import LogisticRegression\n",
        "url = \"https://raw.githubusercontent.com/jbrownlee/Datasets/master/pima-indians-diabetes.data.csv\"\n",
        "names = ['preg', 'plas', 'pres', 'skin', 'test', 'mass', 'pedi', 'age', 'class']\n",
        "dataframe = pandas.read_csv(url, names=names)\n",
        "array = dataframe.values\n",
        "X = array[:,0:8]\n",
        "Y = array[:,8]\n",
        "num_instances = len(X)\n",
        "seed = 7\n",
        "kfold = model_selection.KFold(n_splits=5, random_state=seed)\n",
        "model = LogisticRegression(C=1, penalty='l1') ##### This is the important line\n",
        "results = model_selection.cross_val_score(model, X, Y, cv=kfold)\n",
        "print(results)"
      ],
      "execution_count": 0,
      "outputs": [
        {
          "output_type": "stream",
          "text": [
            "[0.75974026 0.72727273 0.76623377 0.83006536 0.76470588]\n"
          ],
          "name": "stdout"
        }
      ]
    },
    {
      "metadata": {
        "id": "aq8mXV2rbWCS",
        "colab_type": "code",
        "outputId": "e0c42321-af9c-45c4-ea27-1d247ad9fec2",
        "colab": {
          "base_uri": "https://localhost:8080/",
          "height": 103
        }
      },
      "cell_type": "code",
      "source": [
        "##### YOUR CODE HERE ##### - Feel free to add as many code cells as necessary.\n",
        "\n",
        "for c in [1e-2, 1e-1, 1e0, 1e1, 1e2]:\n",
        "  model = LogisticRegression(C=c, penalty='l1') ##### This is the important line\n",
        "  results = model_selection.cross_val_score(model, X, Y, cv=kfold)\n",
        "  print(\"Accuracy: %.3f (%.3f)\" % (results.mean()*100.0, results.std()*100.0))"
      ],
      "execution_count": 0,
      "outputs": [
        {
          "output_type": "stream",
          "text": [
            "Accuracy: 67.845 (3.766)\n",
            "Accuracy: 75.398 (4.460)\n",
            "Accuracy: 76.960 (3.341)\n",
            "Accuracy: 77.091 (3.504)\n",
            "Accuracy: 77.091 (3.504)\n"
          ],
          "name": "stdout"
        }
      ]
    },
    {
      "metadata": {
        "id": "ezDaefHjK-Ol",
        "colab_type": "text"
      },
      "cell_type": "markdown",
      "source": [
        "Higher C gives a higher accuracy."
      ]
    },
    {
      "metadata": {
        "id": "TAu2b1EkJp4P",
        "colab_type": "code",
        "outputId": "616fcd03-36a7-467c-b180-f829164133e7",
        "colab": {
          "base_uri": "https://localhost:8080/",
          "height": 51
        }
      },
      "cell_type": "code",
      "source": [
        " for l in ['l1', 'l2']:\n",
        "  model = LogisticRegression(C=10, penalty=l) ##### This is the important line\n",
        "  results = model_selection.cross_val_score(model, X, Y, cv=kfold)\n",
        "  print(\"Accuracy: %.3f (%.3f)\" % (results.mean()*100.0, results.std()*100.0))"
      ],
      "execution_count": 0,
      "outputs": [
        {
          "output_type": "stream",
          "text": [
            "Accuracy: 77.091 (3.504)\n",
            "Accuracy: 76.960 (3.341)\n"
          ],
          "name": "stdout"
        }
      ]
    },
    {
      "metadata": {
        "id": "8-b6J5JJLTLG",
        "colab_type": "text"
      },
      "cell_type": "markdown",
      "source": [
        "L1 gives better accuracy."
      ]
    },
    {
      "metadata": {
        "id": "CrwljGvubkpv",
        "colab_type": "text"
      },
      "cell_type": "markdown",
      "source": [
        "### 1) Grid-Search Hyperparameter Tuning:\n",
        "\n",
        "Imagine that your algorithm has 12 different potential hyperparameters and each them can take on 5 different values. Lets say that it takes your laptop 4 seconds to fit each fold of cross validation. For each 5-fold cross-validation it would then take 20 seconds to fit your model and get an accuracy reading reported back. Now imagine that you want to test every possible combination of hyperparameters on your algorithm to get the absolute highest accuracy. You can see how this might become exceedingly tedious and time-consuming to perform by hand. Some hyperparameters (like the C value) have much more than 5 potential values, making hyperparameter tuning a huge task. \n",
        "\n",
        "It is for this reason that more advanced optimization techniques exist, one of which we will be exploring today called GridSearch.\n",
        "\n",
        "### What does GridSearch do?\n",
        "\n",
        "GridSearch takes a dictionary of all of the different hyperparameters that you want to test, and then feeds all of the different combinations through the algorithm for you and then reports back to you which one had the highest accuracy. Pretty slick right? \n",
        "\n",
        "Here is some boilerplate code you can reference to create your implementations:\n",
        "\n",
        "[Chris Albon Logistic Regression sklearn Hyperparameter Tuning with GridSearch](https://chrisalbon.com/machine_learning/model_selection/hyperparameter_tuning_using_grid_search/)"
      ]
    },
    {
      "metadata": {
        "id": "dCZLjm7JjTwh",
        "colab_type": "code",
        "colab": {}
      },
      "cell_type": "code",
      "source": [
        "# These import statements might be useful to you. \n",
        "import numpy as np\n",
        "from sklearn.model_selection import GridSearchCV"
      ],
      "execution_count": 0,
      "outputs": []
    },
    {
      "metadata": {
        "id": "sb4F7GlnjIvl",
        "colab_type": "code",
        "colab": {}
      },
      "cell_type": "code",
      "source": [
        "# Create logistic regression object\n",
        "\n",
        "logistic = LogisticRegression()"
      ],
      "execution_count": 0,
      "outputs": []
    },
    {
      "metadata": {
        "id": "nrrfWSJOey0J",
        "colab_type": "code",
        "colab": {}
      },
      "cell_type": "code",
      "source": [
        "# Create a list of all of the different penalty values that you want to test and save them to a variable called 'penalty'\n",
        "\n",
        "penalty = ['l1', 'l2']"
      ],
      "execution_count": 0,
      "outputs": []
    },
    {
      "metadata": {
        "id": "-m1rVmNwfbSH",
        "colab_type": "code",
        "colab": {}
      },
      "cell_type": "code",
      "source": [
        "# Create a list of all of the different C values that you want to test and save them to a variable called 'C'\n",
        "\n",
        "C = np.logspace(0, 4, 10)"
      ],
      "execution_count": 0,
      "outputs": []
    },
    {
      "metadata": {
        "id": "hy-B_Wm3fz-4",
        "colab_type": "code",
        "colab": {}
      },
      "cell_type": "code",
      "source": [
        "# Now that you have two lists each holding the different values that you want test, use the dict() function to combine them into a dictionary. \n",
        "# Save your new dictionary to the variable 'hyperparameters'\n",
        "# Print out the dictionary if you're curious as to what it euds up looking like.\n",
        "\n",
        "hyperparameters = dict(C=C, penalty=penalty)"
      ],
      "execution_count": 0,
      "outputs": []
    },
    {
      "metadata": {
        "id": "v619p6o4j9-3",
        "colab_type": "code",
        "colab": {}
      },
      "cell_type": "code",
      "source": [
        "# Fit your model using gridsearch\n",
        "\n",
        "clf = GridSearchCV(logistic, hyperparameters, cv=5, verbose=0)\n",
        "best_model = clf.fit(X, Y)"
      ],
      "execution_count": 0,
      "outputs": []
    },
    {
      "metadata": {
        "id": "3aUuCQH4gdBc",
        "colab_type": "code",
        "outputId": "8728f68b-2a48-4e92-ffa3-d38e80008572",
        "colab": {
          "base_uri": "https://localhost:8080/",
          "height": 51
        }
      },
      "cell_type": "code",
      "source": [
        "# Print the best penalty and C value from best_model.best_estimator_.get_params()\n",
        "\n",
        "print('Best Penalty:', best_model.best_estimator_.get_params()['penalty'])\n",
        "print('Best C:', best_model.best_estimator_.get_params()['C'])"
      ],
      "execution_count": 0,
      "outputs": [
        {
          "output_type": "stream",
          "text": [
            "Best Penalty: l1\n",
            "Best C: 7.742636826811269\n"
          ],
          "name": "stdout"
        }
      ]
    },
    {
      "metadata": {
        "id": "IqG4tPaQkKgz",
        "colab_type": "code",
        "outputId": "c19f8dcd-eefe-4cd6-8a6a-611785b13e62",
        "colab": {
          "base_uri": "https://localhost:8080/",
          "height": 814
        }
      },
      "cell_type": "code",
      "source": [
        "# Print out all of the different combinations of your grid search values and their corresponding accuracies.\n",
        "# https://stackoverflow.com/questions/22155953/how-to-print-out-an-accuracy-score-for-each-combination-within-gridsearch\n",
        "\n",
        "best_model.predict(X)"
      ],
      "execution_count": 0,
      "outputs": [
        {
          "output_type": "execute_result",
          "data": {
            "text/plain": [
              "array([1., 0., 1., 0., 1., 0., 0., 1., 1., 0., 0., 1., 1., 1., 1., 0., 0.,\n",
              "       0., 0., 0., 0., 0., 1., 0., 1., 0., 1., 0., 1., 0., 0., 1., 0., 0.,\n",
              "       0., 0., 1., 0., 0., 1., 1., 1., 0., 1., 1., 1., 0., 0., 0., 0., 0.,\n",
              "       0., 0., 1., 1., 0., 1., 0., 1., 0., 0., 1., 0., 0., 0., 0., 0., 0.,\n",
              "       0., 0., 0., 0., 1., 0., 0., 0., 0., 0., 1., 0., 0., 0., 0., 0., 1.,\n",
              "       0., 1., 0., 1., 0., 0., 0., 0., 0., 0., 1., 0., 0., 0., 0., 1., 0.,\n",
              "       0., 0., 0., 0., 0., 0., 0., 0., 1., 1., 0., 0., 1., 1., 0., 0., 0.,\n",
              "       0., 1., 0., 0., 0., 0., 1., 0., 0., 0., 0., 1., 1., 1., 0., 0., 0.,\n",
              "       0., 0., 0., 0., 0., 0., 0., 0., 0., 0., 0., 0., 1., 0., 0., 0., 1.,\n",
              "       1., 1., 1., 0., 0., 0., 1., 0., 0., 0., 0., 0., 0., 0., 0., 0., 0.,\n",
              "       0., 1., 0., 0., 0., 1., 0., 1., 1., 1., 0., 0., 0., 0., 0., 1., 1.,\n",
              "       0., 0., 0., 0., 0., 1., 1., 0., 1., 0., 0., 0., 0., 0., 0., 0., 0.,\n",
              "       0., 0., 1., 1., 0., 1., 0., 1., 1., 1., 0., 1., 0., 0., 0., 0., 1.,\n",
              "       1., 0., 1., 0., 0., 0., 1., 1., 0., 1., 1., 0., 0., 0., 1., 1., 1.,\n",
              "       1., 0., 0., 0., 0., 0., 0., 1., 0., 1., 0., 0., 0., 0., 0., 0., 0.,\n",
              "       0., 0., 0., 1., 1., 1., 1., 0., 0., 0., 0., 1., 1., 0., 1., 1., 0.,\n",
              "       0., 0., 1., 0., 0., 0., 0., 0., 0., 1., 0., 1., 0., 0., 1., 0., 0.,\n",
              "       0., 0., 0., 1., 0., 0., 1., 0., 0., 0., 0., 1., 0., 0., 1., 0., 0.,\n",
              "       1., 0., 0., 0., 0., 0., 0., 0., 1., 0., 0., 1., 0., 1., 0., 0., 0.,\n",
              "       1., 0., 0., 0., 1., 0., 0., 0., 0., 1., 0., 0., 1., 1., 0., 1., 1.,\n",
              "       0., 0., 0., 0., 0., 1., 0., 0., 0., 0., 0., 0., 0., 0., 0., 1., 0.,\n",
              "       1., 0., 1., 1., 1., 0., 1., 0., 0., 0., 0., 0., 0., 1., 0., 0., 0.,\n",
              "       0., 1., 0., 0., 1., 0., 0., 0., 0., 0., 0., 0., 0., 0., 1., 0., 0.,\n",
              "       1., 0., 0., 1., 0., 0., 0., 0., 1., 0., 0., 0., 0., 1., 1., 0., 0.,\n",
              "       1., 1., 0., 0., 1., 0., 0., 1., 0., 1., 0., 0., 0., 0., 0., 0., 1.,\n",
              "       1., 0., 1., 0., 0., 0., 0., 0., 0., 0., 1., 1., 0., 0., 0., 1., 0.,\n",
              "       0., 0., 0., 1., 0., 0., 0., 0., 0., 0., 0., 0., 0., 1., 0., 0., 1.,\n",
              "       1., 0., 0., 0., 0., 0., 0., 0., 0., 1., 1., 1., 0., 0., 0., 0., 0.,\n",
              "       0., 0., 0., 0., 1., 0., 0., 0., 1., 0., 0., 1., 0., 1., 0., 0., 0.,\n",
              "       0., 0., 1., 0., 0., 1., 1., 0., 0., 0., 0., 0., 0., 1., 0., 0., 0.,\n",
              "       0., 0., 0., 0., 0., 1., 1., 1., 0., 0., 0., 0., 0., 1., 0., 0., 0.,\n",
              "       0., 0., 0., 0., 0., 0., 0., 0., 1., 0., 0., 0., 0., 0., 0., 0., 0.,\n",
              "       0., 1., 1., 0., 1., 1., 0., 0., 0., 0., 0., 0., 0., 0., 1., 0., 0.,\n",
              "       1., 0., 0., 0., 0., 0., 0., 1., 0., 0., 0., 0., 0., 0., 0., 0., 0.,\n",
              "       0., 1., 1., 0., 0., 0., 0., 0., 1., 0., 1., 0., 1., 0., 0., 0., 0.,\n",
              "       1., 0., 0., 1., 0., 0., 0., 0., 1., 1., 0., 1., 0., 0., 0., 0., 1.,\n",
              "       1., 0., 1., 0., 0., 0., 1., 0., 0., 0., 1., 0., 0., 0., 0., 0., 0.,\n",
              "       0., 0., 0., 0., 0., 0., 0., 0., 0., 0., 0., 0., 0., 0., 0., 0., 0.,\n",
              "       0., 1., 0., 0., 0., 0., 0., 0., 0., 1., 0., 0., 1., 0., 1., 1., 1.,\n",
              "       1., 0., 0., 1., 0., 0., 1., 1., 0., 0., 1., 0., 1., 1., 0., 0., 0.,\n",
              "       0., 1., 0., 0., 0., 0., 0., 0., 0., 1., 0., 1., 0., 1., 0., 0., 1.,\n",
              "       0., 0., 1., 0., 0., 1., 1., 0., 0., 0., 0., 1., 0., 0., 0., 1., 0.,\n",
              "       0., 1., 1., 0., 0., 0., 0., 0., 0., 0., 0., 0., 0., 0., 0., 0., 0.,\n",
              "       0., 1., 0., 0., 0., 0., 0., 0., 0., 1., 0., 0., 1., 1., 0., 1., 0.,\n",
              "       1., 1., 1., 0., 0., 1., 1., 0., 0., 0., 0., 1., 0., 1., 0., 0., 0.,\n",
              "       0., 0., 0.])"
            ]
          },
          "metadata": {
            "tags": []
          },
          "execution_count": 106
        }
      ]
    }
  ]
}