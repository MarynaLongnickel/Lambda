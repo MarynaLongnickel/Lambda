{
  "nbformat": 4,
  "nbformat_minor": 0,
  "metadata": {
    "colab": {
      "name": "Marina - Logistic Regression By Hand Coding Challenge.ipynb",
      "version": "0.3.2",
      "provenance": [],
      "collapsed_sections": []
    },
    "kernelspec": {
      "name": "python3",
      "display_name": "Python 3"
    }
  },
  "cells": [
    {
      "metadata": {
        "id": "FdAMsssKUtjs",
        "colab_type": "text"
      },
      "cell_type": "markdown",
      "source": [
        "# Logistic Regression By Hand Coding Challenge\n",
        "\n",
        "Logistic Regression computes the Maximum Likelihood Estimate (MLE) $p$ of the coefficients $w$ and the variable $x$.\n",
        "\n",
        "$ p_x = \\frac{1}{1+exp^{-(w^tx)}} $\n",
        "\n",
        "\n",
        "The MLE method for Logistic Regression is described in psuedocode as:\n",
        "\n",
        "```\n",
        "w = [0,...,0]\n",
        "for each epoch:\n",
        "  p_epoch = 1/(1+e^(-w^tx))\n",
        "  for each x_i:\n",
        "    for each w_i:\n",
        "      w_i = MLE(w_i,x_i,y_i,p_x,alpha)\n",
        "```  \n",
        "\n",
        "The maximum likelihood method `MLE` is computed: $w = w + \\alpha(y-p)p(1-p)x$\n",
        "\n",
        "Compute the Logistic Regression coefficients $w$ for the following dataset:"
      ]
    },
    {
      "metadata": {
        "id": "LliiuD0zUqjH",
        "colab_type": "code",
        "colab": {}
      },
      "cell_type": "code",
      "source": [
        "# LAMBDA SCHOOL\n",
        "#\n",
        "# MACHINE LEARNING\n",
        "#\n",
        "# MIT LICENSE\n",
        "\n",
        "import numpy as np\n",
        "\n",
        "alpha = 0.3\n",
        "epochs = 100\n",
        "x = np.array([1,3])\n",
        "y = np.array([0,1])\n",
        "w = np.array([0.0,0.0])\n",
        "\n",
        "def proba(x,y,w):\n",
        "  return 1/(1+np.exp(-w.dot(ones(x))))\n",
        "\n",
        "def ones(x):\n",
        "  return np.column_stack((np.ones(len(x)),x))\n",
        "\n",
        "def MLE(w,x,y,p,a):\n",
        "  return w + alpha*(y-p)*p*(1-p)*x\n",
        "\n",
        "# Use the above pseudo code to calculate w for each epoch.\n",
        "\n",
        "# Your code here:"
      ],
      "execution_count": 0,
      "outputs": []
    },
    {
      "metadata": {
        "id": "nrE7qrj1qNaH",
        "colab_type": "code",
        "outputId": "7f23cd5e-57c1-487a-e015-b7d81913bbce",
        "colab": {
          "base_uri": "https://localhost:8080/",
          "height": 35
        }
      },
      "cell_type": "code",
      "source": [
        "for i in range(epochs):\n",
        "  p = proba(x,y,w)\n",
        "  for i in range(len(x)):\n",
        "    t = w.copy()\n",
        "    for j in range(len(w)):\n",
        "      t[j] = MLE(w[j], x[i], y[i], p[i], a)\n",
        "    w = t\n",
        "print(w)"
      ],
      "execution_count": 0,
      "outputs": [
        {
          "output_type": "stream",
          "text": [
            "[0.26592513 0.26592513]\n"
          ],
          "name": "stdout"
        }
      ]
    },
    {
      "metadata": {
        "id": "ifEoIOZ97--k",
        "colab_type": "code",
        "outputId": "2edb26f0-378a-4661-91ff-ca89f3668f94",
        "colab": {
          "base_uri": "https://localhost:8080/",
          "height": 695
        }
      },
      "cell_type": "code",
      "source": [
        "import numpy as np\n",
        "import matplotlib.pyplot as plt\n",
        "\n",
        "Jlist = []\n",
        "x = [2,3]\n",
        "y = [0,1]\n",
        "\n",
        "def h(xi, theta):\n",
        "  xi = np.matrix(xi)\n",
        "  return 1/(1 + 1/(np.exp(np.dot(xi,np.matrix(theta).T))))\n",
        "\n",
        "def LR(x, y, theta = [0, 0], steps = 1000, alpha = 0.6):\n",
        "  dt = theta.copy()\n",
        "  N = len(y)\n",
        "  o = np.matrix(np.ones(N))\n",
        "  xM = np.hstack((o.T, np.matrix(x).T))\n",
        "  \n",
        "  for i in range(steps):\n",
        "    J = -1/(N) * sum((y[i]*np.log(h(xM[i],theta)) + (1 - y[i]) * np.log(1 - h(xM[i],theta))) for i in range(N))\n",
        "    J = J.item(0)\n",
        "    Jlist.append(J)\n",
        "    for j in range(N):\n",
        "      dt[j] = theta[j] - alpha * sum((h(xM[k],theta).item(0) - y[k])*xM[k].item(j) for k in range(N))\n",
        "    theta = dt\n",
        "    \n",
        "  return theta\n",
        "\n",
        "theta = LR(x, y)\n",
        "print(theta)\n",
        "plt.plot(x, y, 'ob');\n",
        "smooth_x = np.linspace(0,4,30)\n",
        "p = theta[1] * smooth_x + theta[0]\n",
        "plt.plot(smooth_x, 1/(1+np.exp(-p)), 'g');\n",
        "plt.show()\n",
        "plt.plot(Jlist);"
      ],
      "execution_count": 0,
      "outputs": [
        {
          "output_type": "stream",
          "text": [
            "[-18.54689001274107, 7.49179069452615]\n"
          ],
          "name": "stdout"
        },
        {
          "output_type": "display_data",
          "data": {
            "image/png": "[encoded data removed]",
            "text/plain": [
              "<matplotlib.figure.Figure at 0x7f8cb1835668>"
            ]
          },
          "metadata": {
            "tags": []
          }
        },
        {
          "output_type": "display_data",
          "data": {
            "image/png": "[encoded data removed]",
            "text/plain": [
              "<matplotlib.figure.Figure at 0x7f8cb1835710>"
            ]
          },
          "metadata": {
            "tags": []
          }
        }
      ]
    }
  ]
}