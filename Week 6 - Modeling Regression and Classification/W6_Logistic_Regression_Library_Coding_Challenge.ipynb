{
  "nbformat": 4,
  "nbformat_minor": 0,
  "metadata": {
    "colab": {
      "name": "Marin - Logistic Regression Library Coding Challenge.ipynb",
      "version": "0.3.2",
      "provenance": [],
      "collapsed_sections": []
    },
    "kernelspec": {
      "name": "python3",
      "display_name": "Python 3"
    }
  },
  "cells": [
    {
      "metadata": {
        "id": "6d-s2xCt9GNa",
        "colab_type": "text"
      },
      "cell_type": "markdown",
      "source": [
        "# Separating classes with Logistic Regression\n",
        "\n",
        "## Logistic Regression classifies\n",
        "\n",
        "Linear regression makes a prediction: if `y = mx + b`. Logistic regression produces a probability, an estimate that `y` is either `0` or `1`.\n",
        "\n",
        "Consider the following dataset:"
      ]
    },
    {
      "metadata": {
        "id": "CEir2hIh8-fs",
        "colab_type": "code",
        "outputId": "c77425e0-98b6-4bfe-ef1c-982683265fdc",
        "colab": {
          "base_uri": "https://localhost:8080/",
          "height": 228
        }
      },
      "cell_type": "code",
      "source": [
        "# LAMBDA SCHOOL\n",
        "# \n",
        "# MACHINE LEARNING\n",
        "#\n",
        "# MIT LICENSE\n",
        "\n",
        "import numpy as np\n",
        "import pandas as pd\n",
        "import matplotlib.pyplot as plt\n",
        "\n",
        "data = pd.DataFrame()\n",
        "data['x'] = np.array([3,0,5,2,1,0,0,5,6,4,1])\n",
        "data['y'] = np.array([1,0,1,0,0,0,0,1,1,0,0])\n",
        "print(data)"
      ],
      "execution_count": 0,
      "outputs": [
        {
          "output_type": "stream",
          "text": [
            "    x  y\n",
            "0   3  1\n",
            "1   0  0\n",
            "2   5  1\n",
            "3   2  0\n",
            "4   1  0\n",
            "5   0  0\n",
            "6   0  0\n",
            "7   5  1\n",
            "8   6  1\n",
            "9   4  0\n",
            "10  1  0\n"
          ],
          "name": "stdout"
        }
      ]
    },
    {
      "metadata": {
        "id": "d9CLPDb69bVD",
        "colab_type": "code",
        "outputId": "095245b5-c669-4903-942d-a54aa720a89b",
        "colab": {
          "base_uri": "https://localhost:8080/",
          "height": 211
        }
      },
      "cell_type": "code",
      "source": [
        "from sklearn.linear_model import LogisticRegression\n",
        "regr = LogisticRegression()\n",
        "regr.fit(data['x'].values.reshape(-1,1),data['y'].ravel())\n",
        "y_hat = regr.predict(data['x'].values.reshape(-1,1))\n",
        "\n",
        "plt.figure(figsize=(4,3))\n",
        "plt.plot(data['x'],data['y'],'.')\n",
        "\n",
        "smooth_x = np.linspace(0,6,30)\n",
        "p = regr.coef_[0] * smooth_x + regr.intercept_\n",
        "p = 1/(1+np.exp(-p))\n",
        "plt.plot(smooth_x,p,'g');"
      ],
      "execution_count": 0,
      "outputs": [
        {
          "output_type": "display_data",
          "data": {
            "image/png": "[encoded data removed]",
            "text/plain": [
              "<matplotlib.figure.Figure at 0x7fc879cb2208>"
            ]
          },
          "metadata": {
            "tags": []
          }
        }
      ]
    },
    {
      "metadata": {
        "id": "SPYsTs9NLxPp",
        "colab_type": "text"
      },
      "cell_type": "markdown",
      "source": [
        "In the above, the blue dots are the samples, and the green is the line of probability predicted by the logistic regression. When the logistic regression estimate `p(x) < 0.5, `y = 0`. When `p(x) >= 0.5`, `y = 1`. The next graph shows the prediction of the estimator: "
      ]
    },
    {
      "metadata": {
        "id": "uOp80Shb9zwk",
        "colab_type": "code",
        "outputId": "aa119cec-35ae-4149-9e45-1cdd51d2a2ba",
        "colab": {
          "base_uri": "https://localhost:8080/",
          "height": 211
        }
      },
      "cell_type": "code",
      "source": [
        "plt.figure(figsize=(4,3))\n",
        "plt.plot(data['x'],y_hat,'or');"
      ],
      "execution_count": 0,
      "outputs": [
        {
          "output_type": "display_data",
          "data": {
            "image/png": "[encoded data removed]",
            "text/plain": [
              "<matplotlib.figure.Figure at 0x7fc8793b1358>"
            ]
          },
          "metadata": {
            "tags": []
          }
        }
      ]
    },
    {
      "metadata": {
        "id": "vJP3OazgM0S0",
        "colab_type": "text"
      },
      "cell_type": "markdown",
      "source": [
        "### Challenge\n",
        "\n",
        "Load the Motor Trend cars dataset at `https://www.dropbox.com/s/itcg6srrzn5u3fj/mtcars.csv?raw=1` and use the `fit` and `predict` functions of `sklearn.linear_model.LogisticRegression` to predict the two binomial columns from that dataset: `vs` and `am`. You choose which feature columns to use.\n",
        "\n",
        "### Stretch goal\n",
        "\n",
        "After fitting the model to predict `vs` and `am` on your chosen features, duplicate the above code that draws the sigmoid prediction function using `smooth_x`, `coef_`, and `intercept_`."
      ]
    },
    {
      "metadata": {
        "id": "ldDwipy2M16A",
        "colab_type": "code",
        "outputId": "9cc71d69-fef1-415a-cf33-e12005e99bb9",
        "colab": {
          "base_uri": "https://localhost:8080/",
          "height": 246
        }
      },
      "cell_type": "code",
      "source": [
        "df = pd.read_csv('https://www.dropbox.com/s/itcg6srrzn5u3fj/mtcars.csv?raw=1')\n",
        "print(df.head())"
      ],
      "execution_count": 0,
      "outputs": [
        {
          "output_type": "stream",
          "text": [
            "          Unnamed: 0   mpg  cyl   disp   hp  drat     wt   qsec  vs  am  gear  \\\n",
            "0          Mazda RX4  21.0    6  160.0  110  3.90  2.620  16.46   0   1     4   \n",
            "1      Mazda RX4 Wag  21.0    6  160.0  110  3.90  2.875  17.02   0   1     4   \n",
            "2         Datsun 710  22.8    4  108.0   93  3.85  2.320  18.61   1   1     4   \n",
            "3     Hornet 4 Drive  21.4    6  258.0  110  3.08  3.215  19.44   1   0     3   \n",
            "4  Hornet Sportabout  18.7    8  360.0  175  3.15  3.440  17.02   0   0     3   \n",
            "\n",
            "   carb  \n",
            "0     4  \n",
            "1     4  \n",
            "2     1  \n",
            "3     1  \n",
            "4     2  \n"
          ],
          "name": "stdout"
        }
      ]
    },
    {
      "metadata": {
        "id": "TiqNsKT3bIuo",
        "colab_type": "code",
        "outputId": "54336d81-6a6b-4bd1-fd40-c5ee8f0999c6",
        "colab": {
          "base_uri": "https://localhost:8080/",
          "height": 468
        }
      },
      "cell_type": "code",
      "source": [
        "x = 'disp'\n",
        "\n",
        "lr = LogisticRegression()\n",
        "lr.fit(df[x].values.reshape(-1,1),df['am'].ravel())\n",
        "y1 = lr.predict(df[x].values.reshape(-1,1))\n",
        "\n",
        "plt.figure(figsize=(4,3))\n",
        "plt.plot(df[x],df['am'],'or')\n",
        "\n",
        "smooth_x = np.linspace(0,int(max(df[x])), 30)\n",
        "p = lr.coef_[0] * smooth_x + lr.intercept_\n",
        "p = 1/(1+np.exp(-p))\n",
        "print(int(min(df[x])))\n",
        "print(int(max(df[x])))\n",
        "plt.plot(smooth_x,p,'g');\n",
        "\n",
        "plt.plot(df[x],y1,'.w');\n",
        "\n",
        "plt.xlabel(x);\n",
        "plt.ylabel('am');\n",
        "# -----------------------------------------------------------\n",
        "\n",
        "lr2 = LogisticRegression()\n",
        "lr2.fit(df['carb'].values.reshape(-1,1),df['vs'].ravel())\n",
        "y2 = lr2.predict(df['carb'].values.reshape(-1,1))\n",
        "\n",
        "plt.figure(figsize=(4,3))\n",
        "plt.plot(df['carb'],df['vs'],'or')\n",
        "\n",
        "smooth_x2 = np.linspace(0,int(max(df['carb'])),30)\n",
        "p2 = lr2.coef_[0] * smooth_x2 + lr2.intercept_\n",
        "p2 = 1/(1+np.exp(-p2))\n",
        "plt.plot(smooth_x2,p2,'g');\n",
        "\n",
        "plt.plot(df['carb'],y2,'.w');\n",
        "\n",
        "plt.xlabel('carb');\n",
        "plt.ylabel('vs');"
      ],
      "execution_count": 0,
      "outputs": [
        {
          "output_type": "stream",
          "text": [
            "71\n",
            "472\n"
          ],
          "name": "stdout"
        },
        {
          "output_type": "display_data",
          "data": {
            "image/png": "[encoded data removed]",
            "text/plain": [
              "<matplotlib.figure.Figure at 0x7fc87bcdd048>"
            ]
          },
          "metadata": {
            "tags": []
          }
        },
        {
          "output_type": "display_data",
          "data": {
            "image/png": "[encoded data removed]",
            "text/plain": [
              "<matplotlib.figure.Figure at 0x7fc8794aec88>"
            ]
          },
          "metadata": {
            "tags": []
          }
        }
      ]
    }
  ]
}