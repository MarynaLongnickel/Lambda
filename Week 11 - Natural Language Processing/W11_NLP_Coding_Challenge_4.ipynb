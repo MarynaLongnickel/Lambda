{
  "nbformat": 4,
  "nbformat_minor": 0,
  "metadata": {
    "colab": {
      "name": "Marina - NLP Coding Challenge #4.ipynb",
      "version": "0.3.2",
      "provenance": [],
      "collapsed_sections": []
    },
    "kernelspec": {
      "name": "python3",
      "display_name": "Python 3"
    },
    "accelerator": "GPU"
  },
  "cells": [
    {
      "metadata": {
        "id": "qd1ltfV8QShV",
        "colab_type": "text"
      },
      "cell_type": "markdown",
      "source": [
        "### Coding Challenge #4: Natural Language Processing"
      ]
    },
    {
      "metadata": {
        "id": "iWWDecybQ1zz",
        "colab_type": "text"
      },
      "cell_type": "markdown",
      "source": [
        "In this Coding Challenge, you will decipher the sentiment within a large set of tweets regarding a specific topic on Twitter in an autonomous fashion. \n",
        "\n",
        "**Challenge **\n",
        "\n",
        "**1)** Construct a Twitter Sentiment Analyzer. The Sentiment Analyzer will search twitter for a list of tweets about any topic of choice, then it will analyze each tweet to ascertain whether a positive or negative emotion is expressed in the tweet\n",
        "\n",
        "**2)** Create a graph of polarity to determine whether the trend over time is a positive one or a negative one. *Hint*: you will have to define a StreamListener instance to continuously listen in on a specific topic and then graph the polarity to showcase the trend (i.e. positive or negative)\n",
        "\n",
        "***Setup***:\n",
        "\n",
        "Before you can work on the challenge, the following items need to be taken care of:\n",
        "\n",
        "1) Install dependencies: a) pip install tweepy - library for accessing the twitter API, b) textblob (pip install textblob) which will facilitate the actual task of performing sentiment analysis.\n",
        "\n",
        "2) You need data - tweepy lets you get data live from the Twitter API, which you have to register for. a) Go to https://apps.twitter.com, b) click on \"Create New Application\", c) Under Application details, enter name, description, website details (can be anything), d) click on \"Create Application\" and e) make a note of the tokens on the \"Keys and Access Tokens\" tab.\n",
        "\n",
        "If you are blocked on the Twitter API/tweepy step, it is okay to manually get or code some test tweets to still use for sentiment analysis, and revisit the API step later. Good luck!"
      ]
    },
    {
      "metadata": {
        "id": "RX0alIPF0_KX",
        "colab_type": "code",
        "colab": {}
      },
      "cell_type": "code",
      "source": [
        "!pip install tweepy\n",
        "!pip install textblob\n",
        "!pip install regex"
      ],
      "execution_count": 0,
      "outputs": []
    },
    {
      "metadata": {
        "id": "s6SzomEa1Ncs",
        "colab_type": "code",
        "colab": {}
      },
      "cell_type": "code",
      "source": [
        "import tweepy\n",
        "import regex as re\n",
        "from textblob import TextBlob\n",
        "\n",
        "auth = tweepy.OAuthHandler('4e8ZCKImsRPae8fuaRPkHH8wq', 'nt1hYeyvBfLsi43nQcF0VEKsUDMAPuVh4ikGRFc2GpFkwWFfqN')\n",
        "auth.set_access_token('811749123221233664-wst2uNqwUCGg4RA7OZ6l4P68vcpdVYd', 'DVAXrJFQOpyqTBRGpAgbi406WCW6IQTWiSbAj0DzBmLdP')\n",
        "\n",
        "def get_tweets(query, count = 10):\n",
        "  \n",
        "  api = tweepy.API(auth)\n",
        "  tweets = []\n",
        "\n",
        "  fetched_tweets = api.search(q = query, count = count)\n",
        "\n",
        "  # parsing tweets one by one\n",
        "  for tweet in fetched_tweets:\n",
        "      # empty dictionary to store required params of a tweet\n",
        "      parsed_tweet = {}\n",
        "\n",
        "      # saving text of tweet\n",
        "      parsed_tweet['text'] = tweet.text\n",
        "      # saving sentiment of tweet\n",
        "      parsed_tweet['sentiment'] = get_tweet_sentiment(tweet.text)\n",
        "\n",
        "      # appending parsed tweet to tweets list\n",
        "      if tweet.retweet_count > 0:\n",
        "          # if tweet has retweets, ensure that it is appended only once\n",
        "          if parsed_tweet not in tweets:\n",
        "              tweets.append(parsed_tweet)\n",
        "      else:\n",
        "          tweets.append(parsed_tweet)\n",
        "\n",
        "  return tweets\n",
        "\n",
        "def clean_tweet(tweet):\n",
        "    return ' '.join(re.sub(\"(@[A-Za-z0-9]+)|([^0-9A-Za-z \\t])|(\\w+:\\/\\/\\S+)\", \" \", tweet).split())\n",
        "\n",
        "def get_tweet_sentiment(tweet):\n",
        "  \n",
        "    analysis = TextBlob(clean_tweet(tweet))\n",
        "    # set sentiment\n",
        "    if analysis.sentiment.polarity > 0:\n",
        "        return 'positive'\n",
        "    elif analysis.sentiment.polarity == 0:\n",
        "        return 'neutral'\n",
        "    else:\n",
        "        return 'negative'"
      ],
      "execution_count": 0,
      "outputs": []
    },
    {
      "metadata": {
        "id": "rsg8y3uq46YR",
        "colab_type": "code",
        "outputId": "83a54ec6-3fc7-4e0f-b0f6-b0fc41445c88",
        "colab": {
          "base_uri": "https://localhost:8080/",
          "height": 1149
        }
      },
      "cell_type": "code",
      "source": [
        "tweets = get_tweets('BTC', 200)\n",
        "\n",
        "ptweets = [tweet for tweet in tweets if tweet['sentiment'] == 'positive']\n",
        "ntweets = [tweet for tweet in tweets if tweet['sentiment'] == 'negative']\n",
        "\n",
        "print(\"Positive: {} %\".format(100*len(ptweets)/len(tweets)))\n",
        "print(\"Negative: {} %\".format(100*len(ntweets)/len(tweets)))\n",
        "print(\"Neutral: {} %\".format(100*(len(tweets) - len(ntweets) - len(ptweets))/len(tweets)))\n",
        "\n",
        "\n",
        "print(\"\\n\\nPositive tweets:\")\n",
        "for tweet in ptweets[:10]:\n",
        "    print(tweet['text'])\n",
        "    print('-------------------------------------')\n",
        "\n",
        "# printing first 5 negative tweets\n",
        "print(\"\\n\\nNegative tweets:\")\n",
        "for tweet in ntweets[:10]:\n",
        "    print(tweet['text'])\n",
        "    print('-------------------------------------')"
      ],
      "execution_count": 0,
      "outputs": [
        {
          "output_type": "stream",
          "text": [
            "Positive: 27.272727272727273 %\n",
            "Negative: 9.090909090909092 %\n",
            "Neutral: 63.63636363636363 %\n",
            "\n",
            "\n",
            "Positive tweets:\n",
            "RT @wazapepe: $PARETO\n",
            "\n",
            "\"Pareto will also be available via our 19,200+ retail locations in Australia, Europe and Canada on June 25, 2018.\"…\n",
            "-------------------------------------\n",
            "RT @tezosbrazil: We're waiting for a beautiful and synchronized launch! Go tezos go\n",
            "#xtz #btc https://t.co/c90Fbh90S6\n",
            "-------------------------------------\n",
            "RT @Lender_Coin: Stand a chance to win 0.1Eth!!!!!\n",
            "1. Follow \n",
            "2. Like \n",
            "3. Retweet \n",
            "4. Comment your ETH address\n",
            "\n",
            "#airdrop #bounty #freecoin…\n",
            "-------------------------------------\n",
            "RT @dentcoin: DENT, the fastest growing #Blockchain project of the world is now live with 3 operators in Morocco! Download DENT for Android…\n",
            "-------------------------------------\n",
            "RT @colekennelly: Tether. A stablecoin. Right. \n",
            "\n",
            "$USDT $BTC $ETH $BCH $EOS https://t.co/zCrrK7SBTO\n",
            "-------------------------------------\n",
            "RT @kucoincom: We are launching a new listing promotion together with @TraxiaNetwork! 2,000,000 TMT + 10 BTC in total rewards!\n",
            "\n",
            "Details ava…\n",
            "-------------------------------------\n",
            "RT @Bitmillex_ICO: Willing lender transfers funds (BTC) to the liquidity pool and specifies how many days/interest he wishes to lend for -…\n",
            "-------------------------------------\n",
            "RT @CoinSutra: Top Crypto Portfolio Rebalancing Tools (Automated &amp; Manual) #BTC $BTC #Crypto @ShrimpyApp @3commas_io https://t.co/By7g68gk5F\n",
            "-------------------------------------\n",
            "RT @Payther_HQ: Payther Massive Airdrop!\n",
            "We are airdropping 300,000,000 PYT tokens worth $15,000,000!\n",
            "To join Airdrop\n",
            "1. Go to https://t.co…\n",
            "-------------------------------------\n",
            "RT @Bitcoinlife2012: While the #Bitcoin price may be volatile BTC ATMs are on a clear exponential trend. Growing investments into industry…\n",
            "-------------------------------------\n",
            "\n",
            "\n",
            "Negative tweets:\n",
            "RT @thecryptomofo: It's Friday Eve Guys! Let's go get those Mother Fucking Coins!!! 👊🏾🤑 $BTC #ALTS #BTFD \n",
            "\n",
            "@Eljaboom \n",
            "@GremlinsTrading \n",
            "@WL…\n",
            "-------------------------------------\n",
            "RT @jfurgo: @ricburton @multicoincap @KyleSamani ETH maximalists are as crazy as BTC maximalists\n",
            "-------------------------------------\n",
            "RT @verasitytech: \"Portfolio Plus features only a very small group of select companies, accelerators, incubators, and Seed/VC Funds.\" https…\n",
            "-------------------------------------\n",
            "RT @Oly245: Giving away $250 worth of Bitcoin. Retweet and follow to enter. Winner picked at random on the 22nd of June. (Must be following…\n",
            "-------------------------------------\n",
            "Japanese Crypto Center Launches Investment Course for Seniors\n",
            "\n",
            "#cryptocurrency #Japan #cryptocurrencynews #bitcoin… https://t.co/91BO3f1YzT\n",
            "-------------------------------------\n",
            "RT @BitcoinCom: Bitcoin Core (BTC) failures were not technological but human failures.\n",
            "\n",
            "Watch @rogerkver passionate presentation @RealCoinG…\n",
            "-------------------------------------\n"
          ],
          "name": "stdout"
        }
      ]
    }
  ]
}