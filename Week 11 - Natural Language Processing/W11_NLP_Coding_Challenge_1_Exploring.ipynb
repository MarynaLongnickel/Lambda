{
  "nbformat": 4,
  "nbformat_minor": 0,
  "metadata": {
    "colab": {
      "name": "Marina - NLP Coding Challenge #1 Exploring.ipynb",
      "version": "0.3.2",
      "provenance": [],
      "collapsed_sections": []
    },
    "kernelspec": {
      "name": "python3",
      "display_name": "Python 3"
    }
  },
  "cells": [
    {
      "metadata": {
        "id": "qd1ltfV8QShV",
        "colab_type": "text"
      },
      "cell_type": "markdown",
      "source": [
        "### Coding Challenge #1: Natural Language Processing"
      ]
    },
    {
      "metadata": {
        "id": "iWWDecybQ1zz",
        "colab_type": "text"
      },
      "cell_type": "markdown",
      "source": [
        "In this Coding Challenge, you will be exposed to the steps needed to get data organized for modelling purposes. You will be exposed to a range of NLP related concepts such as **a)** Tokenization, **b)** Stopwords, **c)** Stemming/Lemmatization, and **d)** Vectorization. \n",
        "\n",
        "Walking through this challenge will equip you with the necessay knowledge to work through the first part of the Project Assignment.\n",
        "\n",
        "**Dataset**: https://archive.ics.uci.edu/ml/datasets/sms+spam+collection\n",
        "\n",
        "\n",
        "\n",
        "\n",
        "\n"
      ]
    },
    {
      "metadata": {
        "id": "SWbWGRycQuqh",
        "colab_type": "text"
      },
      "cell_type": "markdown",
      "source": [
        "**Step 1**: Explore the dataset to ascertain the following:\n",
        "\n",
        "**a)** Determine whether there are any missing values. If missing values are diagnosed, treat them. \n",
        "\n",
        "**b)** Ascertain the breakdown/count of messages. 1) How many \"Spam\" messages are there and 2) How many \"Ham\" messages are there?"
      ]
    },
    {
      "metadata": {
        "id": "1FPgU08dVPsc",
        "colab_type": "code",
        "outputId": "a2028c82-1021-4101-9427-69e4f46d3078",
        "colab": {
          "base_uri": "https://localhost:8080/",
          "height": 455
        }
      },
      "cell_type": "code",
      "source": [
        "# Step 1\n",
        "# Get the data\n",
        "!wget https://archive.ics.uci.edu/ml/machine-learning-databases/00228/smsspamcollection.zip\n",
        "!unzip -o smsspamcollection.zip\n",
        "!head SMSSpamCollection"
      ],
      "execution_count": 0,
      "outputs": [
        {
          "output_type": "stream",
          "text": [
            "--2018-06-11 15:03:55--  https://archive.ics.uci.edu/ml/machine-learning-databases/00228/smsspamcollection.zip\n",
            "Resolving archive.ics.uci.edu (archive.ics.uci.edu)... 128.195.10.249\n",
            "Connecting to archive.ics.uci.edu (archive.ics.uci.edu)|128.195.10.249|:443... connected.\n",
            "HTTP request sent, awaiting response... 200 OK\n",
            "Length: 203415 (199K) [application/zip]\n",
            "Saving to: ‘smsspamcollection.zip’\n",
            "\n",
            "smsspamcollection.z 100%[===================>] 198.65K  --.-KB/s    in 0.1s    \n",
            "\n",
            "2018-06-11 15:03:55 (1.36 MB/s) - ‘smsspamcollection.zip’ saved [203415/203415]\n",
            "\n",
            "Archive:  smsspamcollection.zip\n",
            "  inflating: SMSSpamCollection       \n",
            "  inflating: readme                  \n",
            "ham\tGo until jurong point, crazy.. Available only in bugis n great world la e buffet... Cine there got amore wat...\n",
            "ham\tOk lar... Joking wif u oni...\n",
            "spam\tFree entry in 2 a wkly comp to win FA Cup final tkts 21st May 2005. Text FA to 87121 to receive entry question(std txt rate)T&C's apply 08452810075over18's\n",
            "ham\tU dun say so early hor... U c already then say...\n",
            "ham\tNah I don't think he goes to usf, he lives around here though\n",
            "spam\tFreeMsg Hey there darling it's been 3 week's now and no word back! I'd like some fun you up for it still? Tb ok! XxX std chgs to send, £1.50 to rcv\n",
            "ham\tEven my brother is not like to speak with me. They treat me like aids patent.\n",
            "ham\tAs per your request 'Melle Melle (Oru Minnaminunginte Nurungu Vettam)' has been set as your callertune for all Callers. Press *9 to copy your friends Callertune\n",
            "spam\tWINNER!! As a valued network customer you have been selected to receivea £900 prize reward! To claim call 09061701461. Claim code KL341. Valid 12 hours only.\n",
            "spam\tHad your mobile 11 months or more? U R entitled to Update to the latest colour mobiles with camera for Free! Call The Mobile Update Co FREE on 08002986030\n"
          ],
          "name": "stdout"
        }
      ]
    },
    {
      "metadata": {
        "id": "EXZg54ffLfNW",
        "colab_type": "code",
        "outputId": "a4d14931-1d47-4805-8a6e-c219c740f74e",
        "colab": {
          "base_uri": "https://localhost:8080/",
          "height": 201
        }
      },
      "cell_type": "code",
      "source": [
        "# Read with pandas\n",
        "import pandas as pd\n",
        "sms_data = pd.read_table('./SMSSpamCollection', header=None,\n",
        "                         names=['category', 'content'])\n",
        "sms_data.head()"
      ],
      "execution_count": 0,
      "outputs": [
        {
          "output_type": "execute_result",
          "data": {
            "text/html": [
              "<div>\n",
              "<style scoped>\n",
              "    .dataframe tbody tr th:only-of-type {\n",
              "        vertical-align: middle;\n",
              "    }\n",
              "\n",
              "    .dataframe tbody tr th {\n",
              "        vertical-align: top;\n",
              "    }\n",
              "\n",
              "    .dataframe thead th {\n",
              "        text-align: right;\n",
              "    }\n",
              "</style>\n",
              "<table border=\"1\" class=\"dataframe\">\n",
              "  <thead>\n",
              "    <tr style=\"text-align: right;\">\n",
              "      <th></th>\n",
              "      <th>category</th>\n",
              "      <th>content</th>\n",
              "    </tr>\n",
              "  </thead>\n",
              "  <tbody>\n",
              "    <tr>\n",
              "      <th>0</th>\n",
              "      <td>ham</td>\n",
              "      <td>Go until jurong point, crazy.. Available only ...</td>\n",
              "    </tr>\n",
              "    <tr>\n",
              "      <th>1</th>\n",
              "      <td>ham</td>\n",
              "      <td>Ok lar... Joking wif u oni...</td>\n",
              "    </tr>\n",
              "    <tr>\n",
              "      <th>2</th>\n",
              "      <td>spam</td>\n",
              "      <td>Free entry in 2 a wkly comp to win FA Cup fina...</td>\n",
              "    </tr>\n",
              "    <tr>\n",
              "      <th>3</th>\n",
              "      <td>ham</td>\n",
              "      <td>U dun say so early hor... U c already then say...</td>\n",
              "    </tr>\n",
              "    <tr>\n",
              "      <th>4</th>\n",
              "      <td>ham</td>\n",
              "      <td>Nah I don't think he goes to usf, he lives aro...</td>\n",
              "    </tr>\n",
              "  </tbody>\n",
              "</table>\n",
              "</div>"
            ],
            "text/plain": [
              "  category                                            content\n",
              "0      ham  Go until jurong point, crazy.. Available only ...\n",
              "1      ham                      Ok lar... Joking wif u oni...\n",
              "2     spam  Free entry in 2 a wkly comp to win FA Cup fina...\n",
              "3      ham  U dun say so early hor... U c already then say...\n",
              "4      ham  Nah I don't think he goes to usf, he lives aro..."
            ]
          },
          "metadata": {
            "tags": []
          },
          "execution_count": 2
        }
      ]
    },
    {
      "metadata": {
        "id": "k-3NrhmeXSuH",
        "colab_type": "code",
        "outputId": "74ca8ef8-b4ef-452c-ce84-09699158bd77",
        "colab": {
          "base_uri": "https://localhost:8080/",
          "height": 121
        }
      },
      "cell_type": "code",
      "source": [
        "# Answer a), b) here\n",
        "\n",
        "print(sms_data.isnull().sum())\n",
        "print(sms_data['category'].value_counts())"
      ],
      "execution_count": 0,
      "outputs": [
        {
          "output_type": "stream",
          "text": [
            "category    0\n",
            "content     0\n",
            "dtype: int64\n",
            "ham     4825\n",
            "spam     747\n",
            "Name: category, dtype: int64\n"
          ],
          "name": "stdout"
        }
      ]
    },
    {
      "metadata": {
        "id": "g7800z1HVSs-",
        "colab_type": "text"
      },
      "cell_type": "markdown",
      "source": [
        "**Step 2: **Massage/Pre-process the dataset:\n",
        "\n",
        "**a)** You will need to eliminate punctuations\n",
        "\n",
        "**b)** You will have to deal with/remove stopwords\n",
        "\n",
        "**c)** Tokenize the text\n",
        "\n",
        "**d)** Stem or Lemmatize the text"
      ]
    },
    {
      "metadata": {
        "id": "YX1ygKjo5ape",
        "colab_type": "code",
        "colab": {}
      },
      "cell_type": "code",
      "source": [
        "!pip install -U nltk\n",
        "\n",
        "import nltk\n",
        "\n",
        "nltk.download('all')\n",
        "\n",
        "# Inaugural is one of the data packages included within NLTK\n",
        "\n",
        "# Import the \"inaugural\" data package\n",
        "from nltk.corpus import inaugural"
      ],
      "execution_count": 0,
      "outputs": []
    },
    {
      "metadata": {
        "id": "KySelUb4XxAK",
        "colab_type": "code",
        "outputId": "6b1e3ceb-3589-4847-fe14-90e95c3d8771",
        "colab": {
          "base_uri": "https://localhost:8080/",
          "height": 89
        }
      },
      "cell_type": "code",
      "source": [
        "# Step 2\n",
        "\n",
        "import string\n",
        "from nltk import PorterStemmer, LancasterStemmer, word_tokenize\n",
        "\n",
        "punctuation = ['(', ')', '?', ':', ':', ',', '.', '!', '/', '\"', \"'\"]\n",
        "\n",
        "# Remove punctuation\n",
        "sms_data['clean'] = sms_data['content'].apply(lambda x:''.join([i for i in x if i not in string.punctuation]))\n",
        "en_stopwords = set(nltk.corpus.stopwords.words('english'))\n",
        "\n",
        "# Tokenize the sentence\n",
        "from nltk.tokenize import word_tokenize\n",
        "sms_data['tokens']  = sms_data['clean'].apply(lambda x: word_tokenize(x))\n",
        "sms_data['nontokens'] = sms_data['tokens'].apply(lambda x:' '.join([i for i in x if i not in en_stopwords]))\n",
        "\n",
        "# # Import the Stemmers and Word Tokenizer\n",
        "\n",
        "# rawText = \"My name is Thomson Comer, commander-in-chief of the Machine Learning program at Lambda school. I am creating the curriculum for the Machine Learning program and will be teaching the full-time Machine Learning program beginning in April 2018.\"\n",
        "\n",
        "# tokens = word_tokenize(rawText)\n",
        "\n",
        "pStemmer = PorterStemmer()\n",
        "sms_data['porter_Stems'] = sms_data['tokens'].apply(lambda x: ' '.join([pStemmer.stem(t) for t in x]))\n",
        "\n",
        "n = 422\n",
        "print(sms_data['content'][n])\n",
        "print(sms_data['clean'][n])\n",
        "print(sms_data['porter_Stems'][n])"
      ],
      "execution_count": 0,
      "outputs": [
        {
          "output_type": "stream",
          "text": [
            "Someone has contacted our dating service and entered your phone because they fancy you! To find out who it is call from a landline 09111032124 . PoBox12n146tf150p\n",
            "Someone has contacted our dating service and entered your phone because they fancy you To find out who it is call from a landline 09111032124  PoBox12n146tf150p\n",
            "someon ha contact our date servic and enter your phone becaus they fanci you To find out who it is call from a landlin 09111032124 pobox12n146tf150p\n"
          ],
          "name": "stdout"
        }
      ]
    },
    {
      "metadata": {
        "id": "IfBGUVCKXz7m",
        "colab_type": "text"
      },
      "cell_type": "markdown",
      "source": [
        "**Step 3:** Perform Vectorization - you will apply 3 different vectorization techniques. Each technique will generate similar document term matrices where the rows of the matrix will represent the respective text messages and the columns will represent each word or a combination of words. Note that the biggest difference between the techniques is the value depicted in the actual cells of the matrix. \n",
        "\n",
        "**1)** Create a document term matrix based on the count of the words in the document. You may want to restrict the # of features/columns based on the top most features ordered by term frequency across the document\n",
        "\n",
        "**2)** Create a trigram vector using a combination of adjacent words. In this case, n=3\n",
        "\n",
        "**3) ** Create a TF-IDF vector wherein the cells of the matrix contain values (i.e. weights) to depict how important a word is to an individual SMS message\n",
        "\n",
        "\n"
      ]
    },
    {
      "metadata": {
        "id": "JwMhs7kUeDI8",
        "colab_type": "code",
        "outputId": "d36a91b4-c5db-4702-c2a1-effdc59187e3",
        "colab": {
          "base_uri": "https://localhost:8080/",
          "height": 174
        }
      },
      "cell_type": "code",
      "source": [
        "# Step 3\n",
        "\n",
        "from sklearn.feature_extraction.text import CountVectorizer\n",
        "\n",
        "# create the transform\n",
        "vectorizer = CountVectorizer()\n",
        "\n",
        "# tokenize and build vocab\n",
        "vectorizer.fit(sms_data['clean'])\n",
        "\n",
        "# summarize\n",
        "# print(vectorizer.vocabulary_)\n",
        "\n",
        "# encode document\n",
        "vector = vectorizer.transform(sms_data['clean'])\n",
        "\n",
        "# summarize encoded vector\n",
        "print(vector.shape)\n",
        "print(type(vector))\n",
        "print(vector.toarray())"
      ],
      "execution_count": 0,
      "outputs": [
        {
          "output_type": "stream",
          "text": [
            "(5572, 9544)\n",
            "<class 'scipy.sparse.csr.csr_matrix'>\n",
            "[[0 0 0 ... 0 0 0]\n",
            " [0 0 0 ... 0 0 0]\n",
            " [0 0 0 ... 0 0 0]\n",
            " ...\n",
            " [0 0 0 ... 0 0 0]\n",
            " [0 0 0 ... 0 0 0]\n",
            " [0 0 0 ... 0 0 0]]\n"
          ],
          "name": "stdout"
        }
      ]
    }
  ]
}